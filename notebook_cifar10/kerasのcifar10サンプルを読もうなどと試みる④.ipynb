{
  "nbformat": 4,
  "nbformat_minor": 0,
  "metadata": {
    "colab": {
      "name": "kerasのcifar10サンプルを読もうなどと試みる④",
      "version": "0.3.2",
      "provenance": [],
      "collapsed_sections": []
    },
    "kernelspec": {
      "name": "python3",
      "display_name": "Python 3"
    },
    "accelerator": "GPU"
  },
  "cells": [
    {
      "cell_type": "code",
      "metadata": {
        "id": "q0uZxxFbUPqh",
        "colab_type": "code",
        "colab": {}
      },
      "source": [
        "import keras as ks\n",
        "from keras.models import Sequential\n",
        "from keras.layers import Dense, Dropout, Flatten\n",
        "from keras.layers.convolutional import Conv2D, MaxPooling2D\n",
        "from keras.datasets import cifar10\n",
        "\n",
        "(x_train, y_train), (x_test, y_test) = cifar10.load_data()"
      ],
      "execution_count": 0,
      "outputs": []
    },
    {
      "cell_type": "code",
      "metadata": {
        "id": "I0xdNODwYKIF",
        "colab_type": "code",
        "colab": {
          "base_uri": "https://localhost:8080/",
          "height": 51
        },
        "outputId": "e80ffddd-22e1-4857-f936-45a2b9994637"
      },
      "source": [
        "batch_size = 32\n",
        "num_classes = 10\n",
        "epochs = 20\n",
        "\n",
        "x_train = x_train.astype('float32')\n",
        "x_test = x_test.astype('float32')\n",
        "x_train /= 255\n",
        "x_test /= 255\n",
        "print(x_train.shape[0], 'train samples')\n",
        "print(x_test.shape[0], 'test samples')\n",
        "\n",
        "y_train = ks.utils.to_categorical(y_train, num_classes)\n",
        "y_test = ks.utils.to_categorical(y_test, num_classes)"
      ],
      "execution_count": 10,
      "outputs": [
        {
          "output_type": "stream",
          "text": [
            "50000 train samples\n",
            "10000 test samples\n"
          ],
          "name": "stdout"
        }
      ]
    },
    {
      "cell_type": "code",
      "metadata": {
        "id": "7YORwHstYVf0",
        "colab_type": "code",
        "colab": {
          "base_uri": "https://localhost:8080/",
          "height": 1000
        },
        "outputId": "158cc3e2-4918-4005-a7cd-bdedc52a7c51"
      },
      "source": [
        "model = Sequential()\n",
        "\n",
        "model.add(Conv2D(32, (3, 3), padding='same', input_shape=(32, 32, 3), activation='relu'))\n",
        "model.add(Conv2D(32, (3, 3), activation='relu'))\n",
        "model.add(MaxPooling2D(pool_size=(2, 2)))\n",
        "model.add(Dropout(0.2))\n",
        "\n",
        "model.add(Conv2D(64, (3, 3), padding='same', activation='relu'))\n",
        "model.add(Conv2D(64, (3, 3), activation='relu'))\n",
        "model.add(MaxPooling2D(pool_size=(2, 2)))\n",
        "model.add(Dropout(0.2))\n",
        "\n",
        "model.add(Conv2D(128, (3, 3), padding='same', activation='relu'))\n",
        "model.add(Conv2D(128, (3, 3), activation='relu'))\n",
        "model.add(Conv2D(128, (3, 3), activation='relu'))\n",
        "model.add(MaxPooling2D(pool_size=(2, 2)))\n",
        "model.add(Dropout(0.2))\n",
        "\n",
        "model.add(Flatten())\n",
        "model.add(Dense(512, activation='relu'))\n",
        "model.add(Dropout(0.2))\n",
        "model.add(Dense(10, activation='softmax'))\n",
        "\n",
        "model.summary()\n",
        "\n",
        "model.compile(loss='categorical_crossentropy',\n",
        "              optimizer='RMSprop',\n",
        "              metrics=['accuracy'])"
      ],
      "execution_count": 3,
      "outputs": [
        {
          "output_type": "stream",
          "text": [
            "WARNING: Logging before flag parsing goes to stderr.\n",
            "W0722 11:32:52.129934 139950000236416 deprecation_wrapper.py:119] From /usr/local/lib/python3.6/dist-packages/keras/backend/tensorflow_backend.py:74: The name tf.get_default_graph is deprecated. Please use tf.compat.v1.get_default_graph instead.\n",
            "\n",
            "W0722 11:32:52.147393 139950000236416 deprecation_wrapper.py:119] From /usr/local/lib/python3.6/dist-packages/keras/backend/tensorflow_backend.py:517: The name tf.placeholder is deprecated. Please use tf.compat.v1.placeholder instead.\n",
            "\n",
            "W0722 11:32:52.149706 139950000236416 deprecation_wrapper.py:119] From /usr/local/lib/python3.6/dist-packages/keras/backend/tensorflow_backend.py:4138: The name tf.random_uniform is deprecated. Please use tf.random.uniform instead.\n",
            "\n",
            "W0722 11:32:52.178333 139950000236416 deprecation_wrapper.py:119] From /usr/local/lib/python3.6/dist-packages/keras/backend/tensorflow_backend.py:3976: The name tf.nn.max_pool is deprecated. Please use tf.nn.max_pool2d instead.\n",
            "\n",
            "W0722 11:32:52.180763 139950000236416 deprecation_wrapper.py:119] From /usr/local/lib/python3.6/dist-packages/keras/backend/tensorflow_backend.py:133: The name tf.placeholder_with_default is deprecated. Please use tf.compat.v1.placeholder_with_default instead.\n",
            "\n",
            "W0722 11:32:52.191225 139950000236416 deprecation.py:506] From /usr/local/lib/python3.6/dist-packages/keras/backend/tensorflow_backend.py:3445: calling dropout (from tensorflow.python.ops.nn_ops) with keep_prob is deprecated and will be removed in a future version.\n",
            "Instructions for updating:\n",
            "Please use `rate` instead of `keep_prob`. Rate should be set to `rate = 1 - keep_prob`.\n",
            "W0722 11:32:52.350470 139950000236416 deprecation_wrapper.py:119] From /usr/local/lib/python3.6/dist-packages/keras/optimizers.py:790: The name tf.train.Optimizer is deprecated. Please use tf.compat.v1.train.Optimizer instead.\n",
            "\n",
            "W0722 11:32:52.369779 139950000236416 deprecation_wrapper.py:119] From /usr/local/lib/python3.6/dist-packages/keras/backend/tensorflow_backend.py:3295: The name tf.log is deprecated. Please use tf.math.log instead.\n",
            "\n"
          ],
          "name": "stderr"
        },
        {
          "output_type": "stream",
          "text": [
            "_________________________________________________________________\n",
            "Layer (type)                 Output Shape              Param #   \n",
            "=================================================================\n",
            "conv2d_1 (Conv2D)            (None, 32, 32, 32)        896       \n",
            "_________________________________________________________________\n",
            "conv2d_2 (Conv2D)            (None, 30, 30, 32)        9248      \n",
            "_________________________________________________________________\n",
            "max_pooling2d_1 (MaxPooling2 (None, 15, 15, 32)        0         \n",
            "_________________________________________________________________\n",
            "dropout_1 (Dropout)          (None, 15, 15, 32)        0         \n",
            "_________________________________________________________________\n",
            "conv2d_3 (Conv2D)            (None, 15, 15, 64)        18496     \n",
            "_________________________________________________________________\n",
            "conv2d_4 (Conv2D)            (None, 13, 13, 64)        36928     \n",
            "_________________________________________________________________\n",
            "max_pooling2d_2 (MaxPooling2 (None, 6, 6, 64)          0         \n",
            "_________________________________________________________________\n",
            "dropout_2 (Dropout)          (None, 6, 6, 64)          0         \n",
            "_________________________________________________________________\n",
            "conv2d_5 (Conv2D)            (None, 6, 6, 128)         73856     \n",
            "_________________________________________________________________\n",
            "conv2d_6 (Conv2D)            (None, 4, 4, 128)         147584    \n",
            "_________________________________________________________________\n",
            "conv2d_7 (Conv2D)            (None, 2, 2, 128)         147584    \n",
            "_________________________________________________________________\n",
            "max_pooling2d_3 (MaxPooling2 (None, 1, 1, 128)         0         \n",
            "_________________________________________________________________\n",
            "dropout_3 (Dropout)          (None, 1, 1, 128)         0         \n",
            "_________________________________________________________________\n",
            "flatten_1 (Flatten)          (None, 128)               0         \n",
            "_________________________________________________________________\n",
            "dense_1 (Dense)              (None, 512)               66048     \n",
            "_________________________________________________________________\n",
            "dropout_4 (Dropout)          (None, 512)               0         \n",
            "_________________________________________________________________\n",
            "dense_2 (Dense)              (None, 10)                5130      \n",
            "=================================================================\n",
            "Total params: 505,770\n",
            "Trainable params: 505,770\n",
            "Non-trainable params: 0\n",
            "_________________________________________________________________\n"
          ],
          "name": "stdout"
        }
      ]
    },
    {
      "cell_type": "code",
      "metadata": {
        "id": "KwgwLzL3cskO",
        "colab_type": "code",
        "colab": {
          "base_uri": "https://localhost:8080/",
          "height": 785
        },
        "outputId": "19a4bd0a-4a78-4723-c287-8e87f66ebc18"
      },
      "source": [
        "history = model.fit(x_train, y_train,\n",
        "                    batch_size=batch_size,\n",
        "                    epochs=epochs,\n",
        "                    verbose=1,\n",
        "                    validation_data=(x_test, y_test))"
      ],
      "execution_count": 4,
      "outputs": [
        {
          "output_type": "stream",
          "text": [
            "W0722 11:32:52.564859 139950000236416 deprecation.py:323] From /usr/local/lib/python3.6/dist-packages/tensorflow/python/ops/math_grad.py:1250: add_dispatch_support.<locals>.wrapper (from tensorflow.python.ops.array_ops) is deprecated and will be removed in a future version.\n",
            "Instructions for updating:\n",
            "Use tf.where in 2.0, which has the same broadcast rule as np.where\n"
          ],
          "name": "stderr"
        },
        {
          "output_type": "stream",
          "text": [
            "Train on 50000 samples, validate on 10000 samples\n",
            "Epoch 1/20\n",
            "50000/50000 [==============================] - 15s 300us/step - loss: 1.6989 - acc: 0.3795 - val_loss: 1.3890 - val_acc: 0.5086\n",
            "Epoch 2/20\n",
            "50000/50000 [==============================] - 12s 237us/step - loss: 1.2818 - acc: 0.5500 - val_loss: 1.2602 - val_acc: 0.5705\n",
            "Epoch 3/20\n",
            "50000/50000 [==============================] - 12s 235us/step - loss: 1.1371 - acc: 0.6105 - val_loss: 1.0399 - val_acc: 0.6549\n",
            "Epoch 4/20\n",
            "50000/50000 [==============================] - 12s 238us/step - loss: 1.0877 - acc: 0.6341 - val_loss: 1.0198 - val_acc: 0.6588\n",
            "Epoch 5/20\n",
            "50000/50000 [==============================] - 12s 237us/step - loss: 1.0956 - acc: 0.6376 - val_loss: 1.1211 - val_acc: 0.6263\n",
            "Epoch 6/20\n",
            "50000/50000 [==============================] - 12s 237us/step - loss: 1.0955 - acc: 0.6412 - val_loss: 1.0285 - val_acc: 0.6665\n",
            "Epoch 7/20\n",
            "50000/50000 [==============================] - 12s 236us/step - loss: 1.1033 - acc: 0.6430 - val_loss: 1.0469 - val_acc: 0.6648\n",
            "Epoch 8/20\n",
            "50000/50000 [==============================] - 12s 233us/step - loss: 1.1198 - acc: 0.6412 - val_loss: 1.0916 - val_acc: 0.6466\n",
            "Epoch 9/20\n",
            "50000/50000 [==============================] - 12s 237us/step - loss: 1.1606 - acc: 0.6330 - val_loss: 1.3449 - val_acc: 0.5603\n",
            "Epoch 10/20\n",
            "50000/50000 [==============================] - 12s 239us/step - loss: 1.1738 - acc: 0.6310 - val_loss: 1.1328 - val_acc: 0.6313\n",
            "Epoch 11/20\n",
            "50000/50000 [==============================] - 12s 241us/step - loss: 1.2429 - acc: 0.6167 - val_loss: 1.1013 - val_acc: 0.6192\n",
            "Epoch 12/20\n",
            "50000/50000 [==============================] - 12s 241us/step - loss: 1.2585 - acc: 0.6090 - val_loss: 1.1074 - val_acc: 0.6602\n",
            "Epoch 13/20\n",
            "50000/50000 [==============================] - 12s 241us/step - loss: 1.2952 - acc: 0.5994 - val_loss: 1.1022 - val_acc: 0.6498\n",
            "Epoch 14/20\n",
            "50000/50000 [==============================] - 12s 235us/step - loss: 1.3300 - acc: 0.5908 - val_loss: 2.2983 - val_acc: 0.4523\n",
            "Epoch 15/20\n",
            "50000/50000 [==============================] - 12s 235us/step - loss: 1.3759 - acc: 0.5789 - val_loss: 1.3505 - val_acc: 0.5581\n",
            "Epoch 16/20\n",
            "50000/50000 [==============================] - 12s 236us/step - loss: 1.4753 - acc: 0.5521 - val_loss: 2.1916 - val_acc: 0.4121\n",
            "Epoch 17/20\n",
            "50000/50000 [==============================] - 12s 236us/step - loss: 1.5376 - acc: 0.5372 - val_loss: 1.4431 - val_acc: 0.5642\n",
            "Epoch 18/20\n",
            "50000/50000 [==============================] - 12s 235us/step - loss: 1.6215 - acc: 0.5050 - val_loss: 1.2545 - val_acc: 0.5743\n",
            "Epoch 19/20\n",
            "50000/50000 [==============================] - 12s 234us/step - loss: 1.6900 - acc: 0.4849 - val_loss: 1.4724 - val_acc: 0.5398\n",
            "Epoch 20/20\n",
            "50000/50000 [==============================] - 12s 231us/step - loss: 1.6826 - acc: 0.4927 - val_loss: 1.5088 - val_acc: 0.5053\n"
          ],
          "name": "stdout"
        }
      ]
    },
    {
      "cell_type": "markdown",
      "metadata": {
        "id": "G1CFQfnZeawP",
        "colab_type": "text"
      },
      "source": [
        "loss値がepoch6以降上がってaccuracyも下がってしまっている。\n",
        "もう少し考えてみる。"
      ]
    },
    {
      "cell_type": "code",
      "metadata": {
        "id": "39SwUvajeown",
        "colab_type": "code",
        "colab": {
          "base_uri": "https://localhost:8080/",
          "height": 782
        },
        "outputId": "1be59e65-bd11-499a-d949-97ff7bc58f9e"
      },
      "source": [
        "model2 = Sequential()\n",
        "\n",
        "model2.add(Conv2D(32, (3, 3), padding='same', input_shape=(32, 32, 3), activation='relu'))\n",
        "model2.add(Conv2D(32, (3, 3), activation='relu'))\n",
        "model2.add(MaxPooling2D(pool_size=(2, 2)))\n",
        "model2.add(Dropout(0.2))\n",
        "\n",
        "model2.add(Conv2D(64, (3, 3), padding='same', activation='relu'))\n",
        "model2.add(Conv2D(64, (3, 3), activation='relu'))\n",
        "model2.add(MaxPooling2D(pool_size=(2, 2)))\n",
        "model2.add(Dropout(0.2))\n",
        "\n",
        "model2.add(Conv2D(128, (3, 3), padding='same', activation='relu'))\n",
        "model2.add(Conv2D(128, (3, 3), activation='relu'))\n",
        "model2.add(Conv2D(128, (3, 3), activation='relu'))\n",
        "model2.add(MaxPooling2D(pool_size=(2, 2)))\n",
        "model2.add(Dropout(0.2))\n",
        "\n",
        "model2.add(Flatten())\n",
        "model2.add(Dense(512, activation='relu'))\n",
        "model2.add(Dropout(0.2))\n",
        "model2.add(Dense(32, activation='relu'))\n",
        "model2.add(Dropout(0.2))\n",
        "model2.add(Dense(10, activation='softmax'))\n",
        "\n",
        "model2.summary()\n",
        "\n",
        "model2.compile(loss='categorical_crossentropy',\n",
        "              optimizer='RMSprop',\n",
        "              metrics=['accuracy'])"
      ],
      "execution_count": 5,
      "outputs": [
        {
          "output_type": "stream",
          "text": [
            "_________________________________________________________________\n",
            "Layer (type)                 Output Shape              Param #   \n",
            "=================================================================\n",
            "conv2d_8 (Conv2D)            (None, 32, 32, 32)        896       \n",
            "_________________________________________________________________\n",
            "conv2d_9 (Conv2D)            (None, 30, 30, 32)        9248      \n",
            "_________________________________________________________________\n",
            "max_pooling2d_4 (MaxPooling2 (None, 15, 15, 32)        0         \n",
            "_________________________________________________________________\n",
            "dropout_5 (Dropout)          (None, 15, 15, 32)        0         \n",
            "_________________________________________________________________\n",
            "conv2d_10 (Conv2D)           (None, 15, 15, 64)        18496     \n",
            "_________________________________________________________________\n",
            "conv2d_11 (Conv2D)           (None, 13, 13, 64)        36928     \n",
            "_________________________________________________________________\n",
            "max_pooling2d_5 (MaxPooling2 (None, 6, 6, 64)          0         \n",
            "_________________________________________________________________\n",
            "dropout_6 (Dropout)          (None, 6, 6, 64)          0         \n",
            "_________________________________________________________________\n",
            "conv2d_12 (Conv2D)           (None, 6, 6, 128)         73856     \n",
            "_________________________________________________________________\n",
            "conv2d_13 (Conv2D)           (None, 4, 4, 128)         147584    \n",
            "_________________________________________________________________\n",
            "conv2d_14 (Conv2D)           (None, 2, 2, 128)         147584    \n",
            "_________________________________________________________________\n",
            "max_pooling2d_6 (MaxPooling2 (None, 1, 1, 128)         0         \n",
            "_________________________________________________________________\n",
            "dropout_7 (Dropout)          (None, 1, 1, 128)         0         \n",
            "_________________________________________________________________\n",
            "flatten_2 (Flatten)          (None, 128)               0         \n",
            "_________________________________________________________________\n",
            "dense_3 (Dense)              (None, 512)               66048     \n",
            "_________________________________________________________________\n",
            "dropout_8 (Dropout)          (None, 512)               0         \n",
            "_________________________________________________________________\n",
            "dense_4 (Dense)              (None, 32)                16416     \n",
            "_________________________________________________________________\n",
            "dropout_9 (Dropout)          (None, 32)                0         \n",
            "_________________________________________________________________\n",
            "dense_5 (Dense)              (None, 10)                330       \n",
            "=================================================================\n",
            "Total params: 517,386\n",
            "Trainable params: 517,386\n",
            "Non-trainable params: 0\n",
            "_________________________________________________________________\n"
          ],
          "name": "stdout"
        }
      ]
    },
    {
      "cell_type": "code",
      "metadata": {
        "id": "wondQSXAf-EM",
        "colab_type": "code",
        "colab": {
          "base_uri": "https://localhost:8080/",
          "height": 754
        },
        "outputId": "c3064d02-0eca-49f7-b524-161a5a37bb20"
      },
      "source": [
        "history2 = model2.fit(x_train, y_train,\n",
        "                    batch_size=batch_size,\n",
        "                    epochs=epochs,\n",
        "                    verbose=1,\n",
        "                    validation_data=(x_test, y_test))"
      ],
      "execution_count": 6,
      "outputs": [
        {
          "output_type": "stream",
          "text": [
            "Train on 50000 samples, validate on 10000 samples\n",
            "Epoch 1/20\n",
            "50000/50000 [==============================] - 13s 267us/step - loss: 1.8423 - acc: 0.3248 - val_loss: 1.4461 - val_acc: 0.4725\n",
            "Epoch 2/20\n",
            "50000/50000 [==============================] - 13s 255us/step - loss: 1.3719 - acc: 0.5257 - val_loss: 1.1469 - val_acc: 0.6152\n",
            "Epoch 3/20\n",
            "50000/50000 [==============================] - 13s 251us/step - loss: 1.1845 - acc: 0.6057 - val_loss: 1.1241 - val_acc: 0.6165\n",
            "Epoch 4/20\n",
            "50000/50000 [==============================] - 13s 251us/step - loss: 1.1378 - acc: 0.6263 - val_loss: 1.1022 - val_acc: 0.6284\n",
            "Epoch 5/20\n",
            "50000/50000 [==============================] - 13s 251us/step - loss: 1.1653 - acc: 0.6277 - val_loss: 1.1415 - val_acc: 0.6318\n",
            "Epoch 6/20\n",
            "50000/50000 [==============================] - 13s 254us/step - loss: 1.1855 - acc: 0.6257 - val_loss: 1.0289 - val_acc: 0.6625\n",
            "Epoch 7/20\n",
            "50000/50000 [==============================] - 13s 254us/step - loss: 1.2287 - acc: 0.6153 - val_loss: 1.1064 - val_acc: 0.6123\n",
            "Epoch 8/20\n",
            "50000/50000 [==============================] - 13s 257us/step - loss: 1.2590 - acc: 0.6092 - val_loss: 1.0685 - val_acc: 0.6587\n",
            "Epoch 9/20\n",
            "50000/50000 [==============================] - 13s 257us/step - loss: 1.2666 - acc: 0.6049 - val_loss: 1.1585 - val_acc: 0.6616\n",
            "Epoch 10/20\n",
            "50000/50000 [==============================] - 13s 258us/step - loss: 1.3265 - acc: 0.5871 - val_loss: 1.5985 - val_acc: 0.5432\n",
            "Epoch 11/20\n",
            "50000/50000 [==============================] - 13s 253us/step - loss: 1.3683 - acc: 0.5738 - val_loss: 1.1740 - val_acc: 0.6186\n",
            "Epoch 12/20\n",
            "50000/50000 [==============================] - 13s 256us/step - loss: 1.4257 - acc: 0.5602 - val_loss: 1.3731 - val_acc: 0.5244\n",
            "Epoch 13/20\n",
            "50000/50000 [==============================] - 13s 260us/step - loss: 1.4772 - acc: 0.5426 - val_loss: 2.3791 - val_acc: 0.4354\n",
            "Epoch 14/20\n",
            "50000/50000 [==============================] - 13s 256us/step - loss: 1.5426 - acc: 0.5256 - val_loss: 1.5108 - val_acc: 0.4828\n",
            "Epoch 15/20\n",
            "50000/50000 [==============================] - 13s 250us/step - loss: 1.7178 - acc: 0.4738 - val_loss: 2.0987 - val_acc: 0.2698\n",
            "Epoch 16/20\n",
            "50000/50000 [==============================] - 12s 246us/step - loss: 1.7448 - acc: 0.4512 - val_loss: 1.5083 - val_acc: 0.5107\n",
            "Epoch 17/20\n",
            "50000/50000 [==============================] - 12s 244us/step - loss: 1.7853 - acc: 0.4337 - val_loss: 1.5823 - val_acc: 0.3901\n",
            "Epoch 18/20\n",
            "50000/50000 [==============================] - 12s 247us/step - loss: 1.9038 - acc: 0.4018 - val_loss: 1.7172 - val_acc: 0.3600\n",
            "Epoch 19/20\n",
            "50000/50000 [==============================] - 12s 250us/step - loss: 2.0222 - acc: 0.3707 - val_loss: 1.7772 - val_acc: 0.3887\n",
            "Epoch 20/20\n",
            "50000/50000 [==============================] - 12s 247us/step - loss: 2.0628 - acc: 0.3437 - val_loss: 1.4460 - val_acc: 0.4635\n"
          ],
          "name": "stdout"
        }
      ]
    },
    {
      "cell_type": "markdown",
      "metadata": {
        "id": "GWMnzHMzhQas",
        "colab_type": "text"
      },
      "source": [
        "epoch4以降loss値増えaccuracyもepoch6以降増えない。何故なのか。"
      ]
    },
    {
      "cell_type": "code",
      "metadata": {
        "id": "qSNP0vfthgBn",
        "colab_type": "code",
        "colab": {
          "base_uri": "https://localhost:8080/",
          "height": 544
        },
        "outputId": "76731a85-7037-4063-f50c-fb25853ffbe8"
      },
      "source": [
        "model3 = Sequential()\n",
        "\n",
        "model3.add(Conv2D(32, (3, 3), padding='same', input_shape=(32, 32, 3), activation='relu'))\n",
        "model3.add(Conv2D(32, (3, 3), activation='relu'))\n",
        "model3.add(MaxPooling2D(pool_size=(2, 2)))\n",
        "model3.add(Dropout(0.2))\n",
        "\n",
        "model3.add(Conv2D(64, (3, 3), padding='same', activation='relu'))\n",
        "model3.add(Conv2D(64, (3, 3), activation='relu'))\n",
        "model3.add(MaxPooling2D(pool_size=(2, 2)))\n",
        "model3.add(Dropout(0.2))\n",
        "\n",
        "model3.add(Flatten())\n",
        "model3.add(Dense(512, activation='relu'))\n",
        "model3.add(Dropout(0.2))\n",
        "model3.add(Dense(10, activation='softmax'))\n",
        "\n",
        "model3.summary()\n",
        "\n",
        "model3.compile(loss='categorical_crossentropy',\n",
        "              optimizer='RMSprop',\n",
        "              metrics=['accuracy'])"
      ],
      "execution_count": 8,
      "outputs": [
        {
          "output_type": "stream",
          "text": [
            "_________________________________________________________________\n",
            "Layer (type)                 Output Shape              Param #   \n",
            "=================================================================\n",
            "conv2d_15 (Conv2D)           (None, 32, 32, 32)        896       \n",
            "_________________________________________________________________\n",
            "conv2d_16 (Conv2D)           (None, 30, 30, 32)        9248      \n",
            "_________________________________________________________________\n",
            "max_pooling2d_7 (MaxPooling2 (None, 15, 15, 32)        0         \n",
            "_________________________________________________________________\n",
            "dropout_10 (Dropout)         (None, 15, 15, 32)        0         \n",
            "_________________________________________________________________\n",
            "conv2d_17 (Conv2D)           (None, 15, 15, 64)        18496     \n",
            "_________________________________________________________________\n",
            "conv2d_18 (Conv2D)           (None, 13, 13, 64)        36928     \n",
            "_________________________________________________________________\n",
            "max_pooling2d_8 (MaxPooling2 (None, 6, 6, 64)          0         \n",
            "_________________________________________________________________\n",
            "dropout_11 (Dropout)         (None, 6, 6, 64)          0         \n",
            "_________________________________________________________________\n",
            "flatten_3 (Flatten)          (None, 2304)              0         \n",
            "_________________________________________________________________\n",
            "dense_6 (Dense)              (None, 512)               1180160   \n",
            "_________________________________________________________________\n",
            "dropout_12 (Dropout)         (None, 512)               0         \n",
            "_________________________________________________________________\n",
            "dense_7 (Dense)              (None, 10)                5130      \n",
            "=================================================================\n",
            "Total params: 1,250,858\n",
            "Trainable params: 1,250,858\n",
            "Non-trainable params: 0\n",
            "_________________________________________________________________\n"
          ],
          "name": "stdout"
        }
      ]
    },
    {
      "cell_type": "code",
      "metadata": {
        "id": "k2p8Mgtph7W4",
        "colab_type": "code",
        "colab": {
          "base_uri": "https://localhost:8080/",
          "height": 754
        },
        "outputId": "238fe139-ab60-4575-8cb2-ade38adf31a4"
      },
      "source": [
        "history3 = model3.fit(x_train, y_train,\n",
        "                    batch_size=batch_size,\n",
        "                    epochs=epochs,\n",
        "                    verbose=1,\n",
        "                    validation_data=(x_test, y_test))"
      ],
      "execution_count": 12,
      "outputs": [
        {
          "output_type": "stream",
          "text": [
            "Train on 50000 samples, validate on 10000 samples\n",
            "Epoch 1/20\n",
            "50000/50000 [==============================] - 11s 219us/step - loss: 1.1141 - acc: 0.6512 - val_loss: 0.9109 - val_acc: 0.6953\n",
            "Epoch 2/20\n",
            "50000/50000 [==============================] - 11s 217us/step - loss: 1.1351 - acc: 0.6438 - val_loss: 0.8630 - val_acc: 0.7124\n",
            "Epoch 3/20\n",
            "50000/50000 [==============================] - 11s 219us/step - loss: 1.1541 - acc: 0.6393 - val_loss: 1.7450 - val_acc: 0.4401\n",
            "Epoch 4/20\n",
            "50000/50000 [==============================] - 11s 216us/step - loss: 1.1754 - acc: 0.6293 - val_loss: 1.1684 - val_acc: 0.5791\n",
            "Epoch 5/20\n",
            "50000/50000 [==============================] - 11s 216us/step - loss: 1.1846 - acc: 0.6233 - val_loss: 1.4133 - val_acc: 0.6423\n",
            "Epoch 6/20\n",
            "50000/50000 [==============================] - 11s 216us/step - loss: 1.1932 - acc: 0.6226 - val_loss: 1.0105 - val_acc: 0.6595\n",
            "Epoch 7/20\n",
            "50000/50000 [==============================] - 11s 216us/step - loss: 1.2040 - acc: 0.6164 - val_loss: 1.1784 - val_acc: 0.5860\n",
            "Epoch 8/20\n",
            "50000/50000 [==============================] - 11s 217us/step - loss: 1.2079 - acc: 0.6160 - val_loss: 1.2174 - val_acc: 0.5780\n",
            "Epoch 9/20\n",
            "50000/50000 [==============================] - 11s 216us/step - loss: 1.2319 - acc: 0.6119 - val_loss: 1.2119 - val_acc: 0.6142\n",
            "Epoch 10/20\n",
            "50000/50000 [==============================] - 11s 215us/step - loss: 1.2459 - acc: 0.6059 - val_loss: 1.0278 - val_acc: 0.6623\n",
            "Epoch 11/20\n",
            "50000/50000 [==============================] - 11s 215us/step - loss: 1.2597 - acc: 0.5997 - val_loss: 1.2114 - val_acc: 0.6179\n",
            "Epoch 12/20\n",
            "50000/50000 [==============================] - 11s 217us/step - loss: 1.2683 - acc: 0.5931 - val_loss: 1.0382 - val_acc: 0.6543\n",
            "Epoch 13/20\n",
            "50000/50000 [==============================] - 11s 216us/step - loss: 1.2729 - acc: 0.5946 - val_loss: 1.1556 - val_acc: 0.6120\n",
            "Epoch 14/20\n",
            "50000/50000 [==============================] - 11s 213us/step - loss: 1.2907 - acc: 0.5907 - val_loss: 2.0163 - val_acc: 0.5137\n",
            "Epoch 15/20\n",
            "50000/50000 [==============================] - 11s 213us/step - loss: 1.2921 - acc: 0.5854 - val_loss: 1.3074 - val_acc: 0.5377\n",
            "Epoch 16/20\n",
            "50000/50000 [==============================] - 11s 215us/step - loss: 1.2759 - acc: 0.5895 - val_loss: 1.1275 - val_acc: 0.6236\n",
            "Epoch 17/20\n",
            "50000/50000 [==============================] - 11s 214us/step - loss: 1.2771 - acc: 0.5933 - val_loss: 1.1842 - val_acc: 0.6208\n",
            "Epoch 18/20\n",
            "50000/50000 [==============================] - 11s 213us/step - loss: 1.3078 - acc: 0.5852 - val_loss: 1.1691 - val_acc: 0.5948\n",
            "Epoch 19/20\n",
            "50000/50000 [==============================] - 11s 213us/step - loss: 1.2978 - acc: 0.5837 - val_loss: 1.2402 - val_acc: 0.5942\n",
            "Epoch 20/20\n",
            "50000/50000 [==============================] - 11s 213us/step - loss: 1.3020 - acc: 0.5832 - val_loss: 1.2060 - val_acc: 0.6101\n"
          ],
          "name": "stdout"
        }
      ]
    },
    {
      "cell_type": "markdown",
      "metadata": {
        "id": "7JlypwEAjcGe",
        "colab_type": "text"
      },
      "source": [
        "loss値は相変わらず途中から上がってしまったが最大で74%だった。こちらの方がいいのか。\n",
        "誤って再び実行したところ最初から7割近く出たが悪化した。"
      ]
    }
  ]
}