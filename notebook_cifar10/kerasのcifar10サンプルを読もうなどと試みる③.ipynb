{
  "nbformat": 4,
  "nbformat_minor": 0,
  "metadata": {
    "colab": {
      "name": "kerasのcifar10サンプルを読もうなどと試みる③",
      "version": "0.3.2",
      "provenance": [],
      "collapsed_sections": []
    },
    "kernelspec": {
      "name": "python3",
      "display_name": "Python 3"
    },
    "accelerator": "GPU"
  },
  "cells": [
    {
      "cell_type": "code",
      "metadata": {
        "id": "w1DOCOs4qWyQ",
        "colab_type": "code",
        "colab": {}
      },
      "source": [
        "import keras as ks\n",
        "from keras.models import Sequential\n",
        "from keras.applications.vgg16 import VGG16\n",
        "from keras.layers import Dense, Dropout, Flatten\n",
        "from keras.datasets import cifar10\n",
        "\n",
        "(x_train, y_train), (x_test, y_test) = cifar10.load_data()"
      ],
      "execution_count": 0,
      "outputs": []
    },
    {
      "cell_type": "code",
      "metadata": {
        "id": "TOHaXrpCqbmv",
        "colab_type": "code",
        "colab": {
          "base_uri": "https://localhost:8080/",
          "height": 51
        },
        "outputId": "22ba55d1-f4f6-47aa-d120-167db31ebd27"
      },
      "source": [
        "batch_size = 128\n",
        "num_classes = 10\n",
        "epochs = 20\n",
        "\n",
        "x_train = x_train.astype('float32')\n",
        "x_test = x_test.astype('float32')\n",
        "x_train /= 255\n",
        "x_test /= 255\n",
        "print(x_train.shape[0], 'train samples')\n",
        "print(x_test.shape[0], 'test samples')\n",
        "\n",
        "y_train = ks.utils.to_categorical(y_train, num_classes)\n",
        "y_test = ks.utils.to_categorical(y_test, num_classes)"
      ],
      "execution_count": 10,
      "outputs": [
        {
          "output_type": "stream",
          "text": [
            "50000 train samples\n",
            "10000 test samples\n"
          ],
          "name": "stdout"
        }
      ]
    },
    {
      "cell_type": "markdown",
      "metadata": {
        "id": "Dr2Gj_hUqhwy",
        "colab_type": "text"
      },
      "source": [
        "VGG16の最後を10にしたい"
      ]
    },
    {
      "cell_type": "code",
      "metadata": {
        "id": "vw4Qfc70qg2y",
        "colab_type": "code",
        "colab": {
          "base_uri": "https://localhost:8080/",
          "height": 295
        },
        "outputId": "a7dbafe2-4289-484c-94c1-a4d8a25bcfdd"
      },
      "source": [
        "model = VGG16(weights=None, input_shape=(32, 32, 3))\n",
        "\n",
        "top_model = Sequential()\n",
        "top_model.add(Dropout(0.2))\n",
        "top_model.add(Dense(512, activation='relu'))\n",
        "top_model.add(Dropout(0.2))\n",
        "top_model.add(Dense(10, activation='softmax'))\n",
        "\n",
        "new_model = Sequential()\n",
        "for l in model.layers:\n",
        "    new_model.add(l)\n",
        "    \n",
        "new_model.add(top_model)"
      ],
      "execution_count": 4,
      "outputs": [
        {
          "output_type": "stream",
          "text": [
            "WARNING: Logging before flag parsing goes to stderr.\n",
            "W0722 10:42:01.351043 139762085607296 deprecation_wrapper.py:119] From /usr/local/lib/python3.6/dist-packages/keras/backend/tensorflow_backend.py:74: The name tf.get_default_graph is deprecated. Please use tf.compat.v1.get_default_graph instead.\n",
            "\n",
            "W0722 10:42:01.388681 139762085607296 deprecation_wrapper.py:119] From /usr/local/lib/python3.6/dist-packages/keras/backend/tensorflow_backend.py:517: The name tf.placeholder is deprecated. Please use tf.compat.v1.placeholder instead.\n",
            "\n",
            "W0722 10:42:01.395235 139762085607296 deprecation_wrapper.py:119] From /usr/local/lib/python3.6/dist-packages/keras/backend/tensorflow_backend.py:4138: The name tf.random_uniform is deprecated. Please use tf.random.uniform instead.\n",
            "\n",
            "W0722 10:42:01.434050 139762085607296 deprecation_wrapper.py:119] From /usr/local/lib/python3.6/dist-packages/keras/backend/tensorflow_backend.py:3976: The name tf.nn.max_pool is deprecated. Please use tf.nn.max_pool2d instead.\n",
            "\n",
            "W0722 10:42:01.662111 139762085607296 deprecation_wrapper.py:119] From /usr/local/lib/python3.6/dist-packages/keras/backend/tensorflow_backend.py:133: The name tf.placeholder_with_default is deprecated. Please use tf.compat.v1.placeholder_with_default instead.\n",
            "\n",
            "W0722 10:42:01.673454 139762085607296 deprecation.py:506] From /usr/local/lib/python3.6/dist-packages/keras/backend/tensorflow_backend.py:3445: calling dropout (from tensorflow.python.ops.nn_ops) with keep_prob is deprecated and will be removed in a future version.\n",
            "Instructions for updating:\n",
            "Please use `rate` instead of `keep_prob`. Rate should be set to `rate = 1 - keep_prob`.\n"
          ],
          "name": "stderr"
        }
      ]
    },
    {
      "cell_type": "markdown",
      "metadata": {
        "id": "_gAKkU3SqqYB",
        "colab_type": "text"
      },
      "source": [
        "下のもありか"
      ]
    },
    {
      "cell_type": "code",
      "metadata": {
        "id": "Ok1tx270quRT",
        "colab_type": "code",
        "colab": {}
      },
      "source": [
        "model = VGG16(weights=None, input_shape=(32, 32, 3), include_top=False)\n",
        "\n",
        "top_model2 = Sequential()\n",
        "top_model2.add(Dropout(0.2))\n",
        "top_model2.add(Flatten())\n",
        "top_model2.add(Dense(512, activation='relu'))\n",
        "top_model2.add(Dropout(0.2))\n",
        "top_model2.add(Dense(10, activation='softmax'))\n",
        "\n",
        "new_model2 = Sequential()\n",
        "for l in model.layers:\n",
        "    new_model2.add(l)\n",
        "    \n",
        "new_model2.add(top_model2)"
      ],
      "execution_count": 0,
      "outputs": []
    },
    {
      "cell_type": "code",
      "metadata": {
        "id": "RmdkaHfqqxLF",
        "colab_type": "code",
        "colab": {
          "base_uri": "https://localhost:8080/",
          "height": 918
        },
        "outputId": "91a98a14-da45-4ecf-fbb5-e99c55aa19f7"
      },
      "source": [
        "new_model.summary()"
      ],
      "execution_count": 5,
      "outputs": [
        {
          "output_type": "stream",
          "text": [
            "_________________________________________________________________\n",
            "Layer (type)                 Output Shape              Param #   \n",
            "=================================================================\n",
            "block1_conv1 (Conv2D)        (None, 32, 32, 64)        1792      \n",
            "_________________________________________________________________\n",
            "block1_conv2 (Conv2D)        (None, 32, 32, 64)        36928     \n",
            "_________________________________________________________________\n",
            "block1_pool (MaxPooling2D)   (None, 16, 16, 64)        0         \n",
            "_________________________________________________________________\n",
            "block2_conv1 (Conv2D)        (None, 16, 16, 128)       73856     \n",
            "_________________________________________________________________\n",
            "block2_conv2 (Conv2D)        (None, 16, 16, 128)       147584    \n",
            "_________________________________________________________________\n",
            "block2_pool (MaxPooling2D)   (None, 8, 8, 128)         0         \n",
            "_________________________________________________________________\n",
            "block3_conv1 (Conv2D)        (None, 8, 8, 256)         295168    \n",
            "_________________________________________________________________\n",
            "block3_conv2 (Conv2D)        (None, 8, 8, 256)         590080    \n",
            "_________________________________________________________________\n",
            "block3_conv3 (Conv2D)        (None, 8, 8, 256)         590080    \n",
            "_________________________________________________________________\n",
            "block3_pool (MaxPooling2D)   (None, 4, 4, 256)         0         \n",
            "_________________________________________________________________\n",
            "block4_conv1 (Conv2D)        (None, 4, 4, 512)         1180160   \n",
            "_________________________________________________________________\n",
            "block4_conv2 (Conv2D)        (None, 4, 4, 512)         2359808   \n",
            "_________________________________________________________________\n",
            "block4_conv3 (Conv2D)        (None, 4, 4, 512)         2359808   \n",
            "_________________________________________________________________\n",
            "block4_pool (MaxPooling2D)   (None, 2, 2, 512)         0         \n",
            "_________________________________________________________________\n",
            "block5_conv1 (Conv2D)        (None, 2, 2, 512)         2359808   \n",
            "_________________________________________________________________\n",
            "block5_conv2 (Conv2D)        (None, 2, 2, 512)         2359808   \n",
            "_________________________________________________________________\n",
            "block5_conv3 (Conv2D)        (None, 2, 2, 512)         2359808   \n",
            "_________________________________________________________________\n",
            "block5_pool (MaxPooling2D)   (None, 1, 1, 512)         0         \n",
            "_________________________________________________________________\n",
            "flatten (Flatten)            (None, 512)               0         \n",
            "_________________________________________________________________\n",
            "fc1 (Dense)                  (None, 4096)              2101248   \n",
            "_________________________________________________________________\n",
            "fc2 (Dense)                  (None, 4096)              16781312  \n",
            "_________________________________________________________________\n",
            "predictions (Dense)          (None, 1000)              4097000   \n",
            "_________________________________________________________________\n",
            "sequential_1 (Sequential)    (None, 10)                517642    \n",
            "=================================================================\n",
            "Total params: 38,211,890\n",
            "Trainable params: 38,211,890\n",
            "Non-trainable params: 0\n",
            "_________________________________________________________________\n"
          ],
          "name": "stdout"
        }
      ]
    },
    {
      "cell_type": "code",
      "metadata": {
        "id": "SDfJ4ieWQ9Pw",
        "colab_type": "code",
        "colab": {
          "base_uri": "https://localhost:8080/",
          "height": 1000
        },
        "outputId": "88c324a1-63d1-4d23-d525-52941464334a"
      },
      "source": [
        "new_model.compile(loss='categorical_crossentropy',\n",
        "              optimizer='RMSprop',\n",
        "              metrics=['accuracy'])\n",
        "\n",
        "history = new_model.fit(x_train, y_train,\n",
        "                    batch_size=batch_size,\n",
        "                    epochs=epochs,\n",
        "                    verbose=1,\n",
        "                    validation_data=(x_test, y_test))"
      ],
      "execution_count": 6,
      "outputs": [
        {
          "output_type": "stream",
          "text": [
            "W0722 10:42:07.814103 139762085607296 deprecation_wrapper.py:119] From /usr/local/lib/python3.6/dist-packages/keras/optimizers.py:790: The name tf.train.Optimizer is deprecated. Please use tf.compat.v1.train.Optimizer instead.\n",
            "\n",
            "W0722 10:42:07.840883 139762085607296 deprecation_wrapper.py:119] From /usr/local/lib/python3.6/dist-packages/keras/backend/tensorflow_backend.py:3295: The name tf.log is deprecated. Please use tf.math.log instead.\n",
            "\n",
            "W0722 10:42:07.957589 139762085607296 deprecation.py:323] From /usr/local/lib/python3.6/dist-packages/tensorflow/python/ops/math_grad.py:1250: add_dispatch_support.<locals>.wrapper (from tensorflow.python.ops.array_ops) is deprecated and will be removed in a future version.\n",
            "Instructions for updating:\n",
            "Use tf.where in 2.0, which has the same broadcast rule as np.where\n"
          ],
          "name": "stderr"
        },
        {
          "output_type": "stream",
          "text": [
            "Train on 50000 samples, validate on 10000 samples\n",
            "Epoch 1/20\n",
            "50000/50000 [==============================] - 43s 853us/step - loss: 2.3035 - acc: 0.0984 - val_loss: 2.3035 - val_acc: 0.1000\n",
            "Epoch 2/20\n",
            "50000/50000 [==============================] - 31s 630us/step - loss: 2.3032 - acc: 0.0986 - val_loss: 2.3027 - val_acc: 0.1000\n",
            "Epoch 3/20\n",
            "50000/50000 [==============================] - 31s 621us/step - loss: 2.3029 - acc: 0.0975 - val_loss: 2.3028 - val_acc: 0.1000\n",
            "Epoch 4/20\n",
            "50000/50000 [==============================] - 31s 629us/step - loss: 2.3029 - acc: 0.0975 - val_loss: 2.3026 - val_acc: 0.1000\n",
            "Epoch 5/20\n",
            "50000/50000 [==============================] - 32s 631us/step - loss: 2.3028 - acc: 0.0979 - val_loss: 2.3026 - val_acc: 0.1000\n",
            "Epoch 6/20\n",
            "50000/50000 [==============================] - 31s 629us/step - loss: 2.3027 - acc: 0.0995 - val_loss: 2.3026 - val_acc: 0.1000\n",
            "Epoch 7/20\n",
            "50000/50000 [==============================] - 31s 630us/step - loss: 2.3027 - acc: 0.0964 - val_loss: 2.3026 - val_acc: 0.1000\n",
            "Epoch 8/20\n",
            "50000/50000 [==============================] - 31s 627us/step - loss: 2.3027 - acc: 0.0980 - val_loss: 2.3026 - val_acc: 0.1000\n",
            "Epoch 9/20\n",
            "50000/50000 [==============================] - 31s 628us/step - loss: 2.3027 - acc: 0.0991 - val_loss: 2.3026 - val_acc: 0.1000\n",
            "Epoch 10/20\n",
            "50000/50000 [==============================] - 31s 626us/step - loss: 2.3027 - acc: 0.0973 - val_loss: 2.3026 - val_acc: 0.1000\n",
            "Epoch 11/20\n",
            "50000/50000 [==============================] - 31s 628us/step - loss: 2.3027 - acc: 0.0975 - val_loss: 2.3026 - val_acc: 0.1000\n",
            "Epoch 12/20\n",
            "50000/50000 [==============================] - 31s 628us/step - loss: 2.3027 - acc: 0.0966 - val_loss: 2.3026 - val_acc: 0.1000\n",
            "Epoch 13/20\n",
            "50000/50000 [==============================] - 31s 626us/step - loss: 2.3027 - acc: 0.0970 - val_loss: 2.3026 - val_acc: 0.1000\n",
            "Epoch 14/20\n",
            "50000/50000 [==============================] - 31s 626us/step - loss: 2.3027 - acc: 0.0977 - val_loss: 2.3026 - val_acc: 0.1000\n",
            "Epoch 15/20\n",
            "50000/50000 [==============================] - 31s 630us/step - loss: 2.3027 - acc: 0.1000 - val_loss: 2.3026 - val_acc: 0.1000\n",
            "Epoch 16/20\n",
            "50000/50000 [==============================] - 31s 628us/step - loss: 2.3027 - acc: 0.0980 - val_loss: 2.3026 - val_acc: 0.1000\n",
            "Epoch 17/20\n",
            "50000/50000 [==============================] - 32s 630us/step - loss: 2.3027 - acc: 0.0980 - val_loss: 2.3026 - val_acc: 0.1000\n",
            "Epoch 18/20\n",
            "50000/50000 [==============================] - 31s 626us/step - loss: 2.3027 - acc: 0.0983 - val_loss: 2.3026 - val_acc: 0.1000\n",
            "Epoch 19/20\n",
            "50000/50000 [==============================] - 31s 628us/step - loss: 2.3027 - acc: 0.0998 - val_loss: 2.3026 - val_acc: 0.1000\n",
            "Epoch 20/20\n",
            "50000/50000 [==============================] - 31s 627us/step - loss: 2.3027 - acc: 0.0984 - val_loss: 2.3026 - val_acc: 0.1000\n"
          ],
          "name": "stdout"
        }
      ]
    },
    {
      "cell_type": "markdown",
      "metadata": {
        "id": "0FLJSP26USma",
        "colab_type": "text"
      },
      "source": [
        "またも失敗。下のも試す。"
      ]
    },
    {
      "cell_type": "code",
      "metadata": {
        "id": "CQCtzRtBU4sj",
        "colab_type": "code",
        "colab": {
          "base_uri": "https://localhost:8080/",
          "height": 782
        },
        "outputId": "55f1aa73-b813-42f9-d5e2-220959ae1ef3"
      },
      "source": [
        "new_model2.summary()"
      ],
      "execution_count": 13,
      "outputs": [
        {
          "output_type": "stream",
          "text": [
            "_________________________________________________________________\n",
            "Layer (type)                 Output Shape              Param #   \n",
            "=================================================================\n",
            "block1_conv1 (Conv2D)        (None, 32, 32, 64)        1792      \n",
            "_________________________________________________________________\n",
            "block1_conv2 (Conv2D)        (None, 32, 32, 64)        36928     \n",
            "_________________________________________________________________\n",
            "block1_pool (MaxPooling2D)   (None, 16, 16, 64)        0         \n",
            "_________________________________________________________________\n",
            "block2_conv1 (Conv2D)        (None, 16, 16, 128)       73856     \n",
            "_________________________________________________________________\n",
            "block2_conv2 (Conv2D)        (None, 16, 16, 128)       147584    \n",
            "_________________________________________________________________\n",
            "block2_pool (MaxPooling2D)   (None, 8, 8, 128)         0         \n",
            "_________________________________________________________________\n",
            "block3_conv1 (Conv2D)        (None, 8, 8, 256)         295168    \n",
            "_________________________________________________________________\n",
            "block3_conv2 (Conv2D)        (None, 8, 8, 256)         590080    \n",
            "_________________________________________________________________\n",
            "block3_conv3 (Conv2D)        (None, 8, 8, 256)         590080    \n",
            "_________________________________________________________________\n",
            "block3_pool (MaxPooling2D)   (None, 4, 4, 256)         0         \n",
            "_________________________________________________________________\n",
            "block4_conv1 (Conv2D)        (None, 4, 4, 512)         1180160   \n",
            "_________________________________________________________________\n",
            "block4_conv2 (Conv2D)        (None, 4, 4, 512)         2359808   \n",
            "_________________________________________________________________\n",
            "block4_conv3 (Conv2D)        (None, 4, 4, 512)         2359808   \n",
            "_________________________________________________________________\n",
            "block4_pool (MaxPooling2D)   (None, 2, 2, 512)         0         \n",
            "_________________________________________________________________\n",
            "block5_conv1 (Conv2D)        (None, 2, 2, 512)         2359808   \n",
            "_________________________________________________________________\n",
            "block5_conv2 (Conv2D)        (None, 2, 2, 512)         2359808   \n",
            "_________________________________________________________________\n",
            "block5_conv3 (Conv2D)        (None, 2, 2, 512)         2359808   \n",
            "_________________________________________________________________\n",
            "block5_pool (MaxPooling2D)   (None, 1, 1, 512)         0         \n",
            "_________________________________________________________________\n",
            "sequential_3 (Sequential)    (None, 10)                267786    \n",
            "=================================================================\n",
            "Total params: 14,982,474\n",
            "Trainable params: 14,982,474\n",
            "Non-trainable params: 0\n",
            "_________________________________________________________________\n"
          ],
          "name": "stdout"
        }
      ]
    },
    {
      "cell_type": "code",
      "metadata": {
        "id": "wMt9NGeGVB9q",
        "colab_type": "code",
        "colab": {
          "base_uri": "https://localhost:8080/",
          "height": 1000
        },
        "outputId": "a823b718-8092-4d3b-9f44-8bbdb60132ce"
      },
      "source": [
        "new_model2.compile(loss='categorical_crossentropy',\n",
        "              optimizer='RMSprop',\n",
        "              metrics=['accuracy'])\n",
        "\n",
        "history2 = new_model2.fit(x_train, y_train,\n",
        "                    batch_size=batch_size,\n",
        "                    epochs=epochs,\n",
        "                    verbose=1,\n",
        "                    validation_data=(x_test, y_test))"
      ],
      "execution_count": 14,
      "outputs": [
        {
          "output_type": "stream",
          "text": [
            "Train on 50000 samples, validate on 10000 samples\n",
            "Epoch 1/20\n",
            "50000/50000 [==============================] - 27s 536us/step - loss: 2.3330 - acc: 0.0969 - val_loss: 2.3026 - val_acc: 0.1000\n",
            "Epoch 2/20\n",
            "50000/50000 [==============================] - 25s 506us/step - loss: 2.3027 - acc: 0.0988 - val_loss: 2.3026 - val_acc: 0.1000\n",
            "Epoch 3/20\n",
            "50000/50000 [==============================] - 25s 505us/step - loss: 2.3027 - acc: 0.0971 - val_loss: 2.3026 - val_acc: 0.1000\n",
            "Epoch 4/20\n",
            "50000/50000 [==============================] - 25s 506us/step - loss: 2.3027 - acc: 0.0982 - val_loss: 2.3026 - val_acc: 0.1000\n",
            "Epoch 5/20\n",
            "50000/50000 [==============================] - 25s 506us/step - loss: 2.3027 - acc: 0.0975 - val_loss: 2.3026 - val_acc: 0.1000\n",
            "Epoch 6/20\n",
            "50000/50000 [==============================] - 25s 506us/step - loss: 2.3027 - acc: 0.0993 - val_loss: 2.3026 - val_acc: 0.1000\n",
            "Epoch 7/20\n",
            "50000/50000 [==============================] - 25s 505us/step - loss: 2.3027 - acc: 0.0975 - val_loss: 2.3026 - val_acc: 0.1000\n",
            "Epoch 8/20\n",
            "50000/50000 [==============================] - 25s 505us/step - loss: 2.3027 - acc: 0.0973 - val_loss: 2.3026 - val_acc: 0.1000\n",
            "Epoch 9/20\n",
            "50000/50000 [==============================] - 25s 506us/step - loss: 2.3027 - acc: 0.0990 - val_loss: 2.3026 - val_acc: 0.1000\n",
            "Epoch 10/20\n",
            "50000/50000 [==============================] - 25s 505us/step - loss: 2.3027 - acc: 0.0988 - val_loss: 2.3026 - val_acc: 0.1000\n",
            "Epoch 11/20\n",
            "50000/50000 [==============================] - 25s 509us/step - loss: 2.3027 - acc: 0.0974 - val_loss: 2.3026 - val_acc: 0.1000\n",
            "Epoch 12/20\n",
            "50000/50000 [==============================] - 25s 506us/step - loss: 2.3027 - acc: 0.0973 - val_loss: 2.3026 - val_acc: 0.1000\n",
            "Epoch 13/20\n",
            "50000/50000 [==============================] - 25s 505us/step - loss: 2.3027 - acc: 0.0965 - val_loss: 2.3026 - val_acc: 0.1000\n",
            "Epoch 14/20\n",
            "50000/50000 [==============================] - 25s 506us/step - loss: 2.3027 - acc: 0.0986 - val_loss: 2.3026 - val_acc: 0.1000\n",
            "Epoch 15/20\n",
            "50000/50000 [==============================] - 25s 506us/step - loss: 2.3027 - acc: 0.0991 - val_loss: 2.3026 - val_acc: 0.1000\n",
            "Epoch 16/20\n",
            "50000/50000 [==============================] - 25s 505us/step - loss: 2.3027 - acc: 0.0978 - val_loss: 2.3026 - val_acc: 0.1000\n",
            "Epoch 17/20\n",
            "50000/50000 [==============================] - 25s 506us/step - loss: 2.3027 - acc: 0.1001 - val_loss: 2.3026 - val_acc: 0.1000\n",
            "Epoch 18/20\n",
            "50000/50000 [==============================] - 25s 506us/step - loss: 2.3027 - acc: 0.0975 - val_loss: 2.3026 - val_acc: 0.1000\n",
            "Epoch 19/20\n",
            "50000/50000 [==============================] - 25s 506us/step - loss: 2.3027 - acc: 0.0982 - val_loss: 2.3026 - val_acc: 0.1000\n",
            "Epoch 20/20\n",
            "50000/50000 [==============================] - 25s 506us/step - loss: 2.3027 - acc: 0.0977 - val_loss: 2.3026 - val_acc: 0.1000\n"
          ],
          "name": "stdout"
        }
      ]
    },
    {
      "cell_type": "markdown",
      "metadata": {
        "id": "FD6a-KvDV2tm",
        "colab_type": "text"
      },
      "source": [
        "ダメ。VGGそのまま使うだけでは出来ないのか。"
      ]
    }
  ]
}