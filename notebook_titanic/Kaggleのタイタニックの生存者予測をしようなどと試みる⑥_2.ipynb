{
  "nbformat": 4,
  "nbformat_minor": 0,
  "metadata": {
    "colab": {
      "name": "Kaggleのタイタニックの生存者予測をしようなどと試みる⑥-2",
      "version": "0.3.2",
      "provenance": [],
      "collapsed_sections": []
    },
    "kernelspec": {
      "name": "python3",
      "display_name": "Python 3"
    }
  },
  "cells": [
    {
      "cell_type": "code",
      "metadata": {
        "id": "OpYjfX1fVYv0",
        "colab_type": "code",
        "colab": {}
      },
      "source": [
        "from google.colab import files\n",
        "uploaded = files.upload()"
      ],
      "execution_count": 0,
      "outputs": []
    },
    {
      "cell_type": "code",
      "metadata": {
        "id": "QkdrwTleVtNg",
        "colab_type": "code",
        "colab": {}
      },
      "source": [
        "import pandas as pd\n",
        "import numpy as np\n",
        "import lightgbm as lgb\n",
        "from sklearn.metrics import confusion_matrix\n",
        "from sklearn.metrics import accuracy_score\n",
        "from sklearn.model_selection import train_test_split\n",
        "\n",
        "train = pd.read_csv(\"train.csv\")\n",
        "test = pd.read_csv(\"test.csv\")"
      ],
      "execution_count": 0,
      "outputs": []
    },
    {
      "cell_type": "code",
      "metadata": {
        "id": "33XfvpYDV2Pd",
        "colab_type": "code",
        "colab": {
          "base_uri": "https://localhost:8080/",
          "height": 433
        },
        "outputId": "764c7f29-b606-4db2-c83b-4deffd4e1d28"
      },
      "source": [
        "all = pd.concat([train, test], axis =0).reset_index(drop=True)"
      ],
      "execution_count": 2,
      "outputs": [
        {
          "output_type": "stream",
          "text": [
            "/usr/local/lib/python3.6/dist-packages/ipykernel_launcher.py:1: FutureWarning: Sorting because non-concatenation axis is not aligned. A future version\n",
            "of pandas will change to not sort by default.\n",
            "\n",
            "To accept the future behavior, pass 'sort=False'.\n",
            "\n",
            "To retain the current behavior and silence the warning, pass 'sort=True'.\n",
            "\n",
            "  \"\"\"Entry point for launching an IPython kernel.\n"
          ],
          "name": "stderr"
        }
      ]
    },
    {
      "cell_type": "code",
      "metadata": {
        "id": "10eHPFhfV6BT",
        "colab_type": "code",
        "colab": {
          "base_uri": "https://localhost:8080/",
          "height": 421
        },
        "outputId": "549b4fef-789c-4656-a4c4-722a39b362d6"
      },
      "source": [
        "def kesson_table(df):\n",
        "    null_val = df.isnull().sum()\n",
        "    percent = 100 * df.isnull().sum()/len(df)\n",
        "    kesson_table = pd.concat([null_val, percent], axis=1)\n",
        "    kesson_table_ren_columns = kesson_table.rename(\n",
        "        columns = {0 : '欠損数', 1 : '%'})\n",
        "    return kesson_table_ren_columns\n",
        "\n",
        "kesson_table(all)"
      ],
      "execution_count": 3,
      "outputs": [
        {
          "output_type": "execute_result",
          "data": {
            "text/html": [
              "<div>\n",
              "<style scoped>\n",
              "    .dataframe tbody tr th:only-of-type {\n",
              "        vertical-align: middle;\n",
              "    }\n",
              "\n",
              "    .dataframe tbody tr th {\n",
              "        vertical-align: top;\n",
              "    }\n",
              "\n",
              "    .dataframe thead th {\n",
              "        text-align: right;\n",
              "    }\n",
              "</style>\n",
              "<table border=\"1\" class=\"dataframe\">\n",
              "  <thead>\n",
              "    <tr style=\"text-align: right;\">\n",
              "      <th></th>\n",
              "      <th>欠損数</th>\n",
              "      <th>%</th>\n",
              "    </tr>\n",
              "  </thead>\n",
              "  <tbody>\n",
              "    <tr>\n",
              "      <th>Age</th>\n",
              "      <td>263</td>\n",
              "      <td>20.091673</td>\n",
              "    </tr>\n",
              "    <tr>\n",
              "      <th>Cabin</th>\n",
              "      <td>1014</td>\n",
              "      <td>77.463713</td>\n",
              "    </tr>\n",
              "    <tr>\n",
              "      <th>Embarked</th>\n",
              "      <td>2</td>\n",
              "      <td>0.152788</td>\n",
              "    </tr>\n",
              "    <tr>\n",
              "      <th>Fare</th>\n",
              "      <td>1</td>\n",
              "      <td>0.076394</td>\n",
              "    </tr>\n",
              "    <tr>\n",
              "      <th>Name</th>\n",
              "      <td>0</td>\n",
              "      <td>0.000000</td>\n",
              "    </tr>\n",
              "    <tr>\n",
              "      <th>Parch</th>\n",
              "      <td>0</td>\n",
              "      <td>0.000000</td>\n",
              "    </tr>\n",
              "    <tr>\n",
              "      <th>PassengerId</th>\n",
              "      <td>0</td>\n",
              "      <td>0.000000</td>\n",
              "    </tr>\n",
              "    <tr>\n",
              "      <th>Pclass</th>\n",
              "      <td>0</td>\n",
              "      <td>0.000000</td>\n",
              "    </tr>\n",
              "    <tr>\n",
              "      <th>Sex</th>\n",
              "      <td>0</td>\n",
              "      <td>0.000000</td>\n",
              "    </tr>\n",
              "    <tr>\n",
              "      <th>SibSp</th>\n",
              "      <td>0</td>\n",
              "      <td>0.000000</td>\n",
              "    </tr>\n",
              "    <tr>\n",
              "      <th>Survived</th>\n",
              "      <td>418</td>\n",
              "      <td>31.932773</td>\n",
              "    </tr>\n",
              "    <tr>\n",
              "      <th>Ticket</th>\n",
              "      <td>0</td>\n",
              "      <td>0.000000</td>\n",
              "    </tr>\n",
              "  </tbody>\n",
              "</table>\n",
              "</div>"
            ],
            "text/plain": [
              "              欠損数          %\n",
              "Age           263  20.091673\n",
              "Cabin        1014  77.463713\n",
              "Embarked        2   0.152788\n",
              "Fare            1   0.076394\n",
              "Name            0   0.000000\n",
              "Parch           0   0.000000\n",
              "PassengerId     0   0.000000\n",
              "Pclass          0   0.000000\n",
              "Sex             0   0.000000\n",
              "SibSp           0   0.000000\n",
              "Survived      418  31.932773\n",
              "Ticket          0   0.000000"
            ]
          },
          "metadata": {
            "tags": []
          },
          "execution_count": 3
        }
      ]
    },
    {
      "cell_type": "code",
      "metadata": {
        "id": "Ms1wSZ0hWBv8",
        "colab_type": "code",
        "colab": {}
      },
      "source": [
        "all[\"surname\"] = all[\"Name\"].apply(lambda x:x.split(\",\")[0])"
      ],
      "execution_count": 0,
      "outputs": []
    },
    {
      "cell_type": "code",
      "metadata": {
        "id": "vEcxRTtNWEID",
        "colab_type": "code",
        "colab": {
          "base_uri": "https://localhost:8080/",
          "height": 34
        },
        "outputId": "2fe842e3-bf64-4da4-8938-adfc2838c567"
      },
      "source": [
        "cols = [\"surname\", \"Sex\",\"Embarked\"]\n",
        "all_to_cat = pd.get_dummies(all, columns=cols)\n",
        "print(all_to_cat.shape)"
      ],
      "execution_count": 5,
      "outputs": [
        {
          "output_type": "stream",
          "text": [
            "(1309, 890)\n"
          ],
          "name": "stdout"
        }
      ]
    },
    {
      "cell_type": "code",
      "metadata": {
        "id": "EvJ-YjQPWHMK",
        "colab_type": "code",
        "colab": {
          "base_uri": "https://localhost:8080/",
          "height": 458
        },
        "outputId": "e17b9ec5-99d5-4ede-fb45-d97d1858b6f4"
      },
      "source": [
        "data_counts = all['surname'].value_counts()\n",
        "surname_to_drop = data_counts[data_counts < 3].index.tolist()\n",
        "\n",
        "to_drop_list = []\n",
        "target_col = \"surname\"\n",
        "\n",
        "for each_data in surname_to_drop:\n",
        "    col_name = \"{}_{}\".format(target_col, each_data)\n",
        "    to_drop_list.append(col_name)\n",
        "    \n",
        "all_to_cat.drop(columns=to_drop_list, inplace=True)\n",
        "print(all_to_cat.shape)"
      ],
      "execution_count": 55,
      "outputs": [
        {
          "output_type": "error",
          "ename": "KeyError",
          "evalue": "ignored",
          "traceback": [
            "\u001b[0;31m---------------------------------------------------------------------------\u001b[0m",
            "\u001b[0;31mKeyError\u001b[0m                                  Traceback (most recent call last)",
            "\u001b[0;32m<ipython-input-55-e27e46827662>\u001b[0m in \u001b[0;36m<module>\u001b[0;34m()\u001b[0m\n\u001b[1;32m      9\u001b[0m     \u001b[0mto_drop_list\u001b[0m\u001b[0;34m.\u001b[0m\u001b[0mappend\u001b[0m\u001b[0;34m(\u001b[0m\u001b[0mcol_name\u001b[0m\u001b[0;34m)\u001b[0m\u001b[0;34m\u001b[0m\u001b[0;34m\u001b[0m\u001b[0m\n\u001b[1;32m     10\u001b[0m \u001b[0;34m\u001b[0m\u001b[0m\n\u001b[0;32m---> 11\u001b[0;31m \u001b[0mall_to_cat\u001b[0m\u001b[0;34m.\u001b[0m\u001b[0mdrop\u001b[0m\u001b[0;34m(\u001b[0m\u001b[0mcolumns\u001b[0m\u001b[0;34m=\u001b[0m\u001b[0mto_drop_list\u001b[0m\u001b[0;34m,\u001b[0m \u001b[0minplace\u001b[0m\u001b[0;34m=\u001b[0m\u001b[0;32mTrue\u001b[0m\u001b[0;34m)\u001b[0m\u001b[0;34m\u001b[0m\u001b[0;34m\u001b[0m\u001b[0m\n\u001b[0m\u001b[1;32m     12\u001b[0m \u001b[0mprint\u001b[0m\u001b[0;34m(\u001b[0m\u001b[0mall_to_cat\u001b[0m\u001b[0;34m.\u001b[0m\u001b[0mshape\u001b[0m\u001b[0;34m)\u001b[0m\u001b[0;34m\u001b[0m\u001b[0;34m\u001b[0m\u001b[0m\n",
            "\u001b[0;32m/usr/local/lib/python3.6/dist-packages/pandas/core/frame.py\u001b[0m in \u001b[0;36mdrop\u001b[0;34m(self, labels, axis, index, columns, level, inplace, errors)\u001b[0m\n\u001b[1;32m   3938\u001b[0m                                            \u001b[0mindex\u001b[0m\u001b[0;34m=\u001b[0m\u001b[0mindex\u001b[0m\u001b[0;34m,\u001b[0m \u001b[0mcolumns\u001b[0m\u001b[0;34m=\u001b[0m\u001b[0mcolumns\u001b[0m\u001b[0;34m,\u001b[0m\u001b[0;34m\u001b[0m\u001b[0;34m\u001b[0m\u001b[0m\n\u001b[1;32m   3939\u001b[0m                                            \u001b[0mlevel\u001b[0m\u001b[0;34m=\u001b[0m\u001b[0mlevel\u001b[0m\u001b[0;34m,\u001b[0m \u001b[0minplace\u001b[0m\u001b[0;34m=\u001b[0m\u001b[0minplace\u001b[0m\u001b[0;34m,\u001b[0m\u001b[0;34m\u001b[0m\u001b[0;34m\u001b[0m\u001b[0m\n\u001b[0;32m-> 3940\u001b[0;31m                                            errors=errors)\n\u001b[0m\u001b[1;32m   3941\u001b[0m \u001b[0;34m\u001b[0m\u001b[0m\n\u001b[1;32m   3942\u001b[0m     @rewrite_axis_style_signature('mapper', [('copy', True),\n",
            "\u001b[0;32m/usr/local/lib/python3.6/dist-packages/pandas/core/generic.py\u001b[0m in \u001b[0;36mdrop\u001b[0;34m(self, labels, axis, index, columns, level, inplace, errors)\u001b[0m\n\u001b[1;32m   3778\u001b[0m         \u001b[0;32mfor\u001b[0m \u001b[0maxis\u001b[0m\u001b[0;34m,\u001b[0m \u001b[0mlabels\u001b[0m \u001b[0;32min\u001b[0m \u001b[0maxes\u001b[0m\u001b[0;34m.\u001b[0m\u001b[0mitems\u001b[0m\u001b[0;34m(\u001b[0m\u001b[0;34m)\u001b[0m\u001b[0;34m:\u001b[0m\u001b[0;34m\u001b[0m\u001b[0;34m\u001b[0m\u001b[0m\n\u001b[1;32m   3779\u001b[0m             \u001b[0;32mif\u001b[0m \u001b[0mlabels\u001b[0m \u001b[0;32mis\u001b[0m \u001b[0;32mnot\u001b[0m \u001b[0;32mNone\u001b[0m\u001b[0;34m:\u001b[0m\u001b[0;34m\u001b[0m\u001b[0;34m\u001b[0m\u001b[0m\n\u001b[0;32m-> 3780\u001b[0;31m                 \u001b[0mobj\u001b[0m \u001b[0;34m=\u001b[0m \u001b[0mobj\u001b[0m\u001b[0;34m.\u001b[0m\u001b[0m_drop_axis\u001b[0m\u001b[0;34m(\u001b[0m\u001b[0mlabels\u001b[0m\u001b[0;34m,\u001b[0m \u001b[0maxis\u001b[0m\u001b[0;34m,\u001b[0m \u001b[0mlevel\u001b[0m\u001b[0;34m=\u001b[0m\u001b[0mlevel\u001b[0m\u001b[0;34m,\u001b[0m \u001b[0merrors\u001b[0m\u001b[0;34m=\u001b[0m\u001b[0merrors\u001b[0m\u001b[0;34m)\u001b[0m\u001b[0;34m\u001b[0m\u001b[0;34m\u001b[0m\u001b[0m\n\u001b[0m\u001b[1;32m   3781\u001b[0m \u001b[0;34m\u001b[0m\u001b[0m\n\u001b[1;32m   3782\u001b[0m         \u001b[0;32mif\u001b[0m \u001b[0minplace\u001b[0m\u001b[0;34m:\u001b[0m\u001b[0;34m\u001b[0m\u001b[0;34m\u001b[0m\u001b[0m\n",
            "\u001b[0;32m/usr/local/lib/python3.6/dist-packages/pandas/core/generic.py\u001b[0m in \u001b[0;36m_drop_axis\u001b[0;34m(self, labels, axis, level, errors)\u001b[0m\n\u001b[1;32m   3810\u001b[0m                 \u001b[0mnew_axis\u001b[0m \u001b[0;34m=\u001b[0m \u001b[0maxis\u001b[0m\u001b[0;34m.\u001b[0m\u001b[0mdrop\u001b[0m\u001b[0;34m(\u001b[0m\u001b[0mlabels\u001b[0m\u001b[0;34m,\u001b[0m \u001b[0mlevel\u001b[0m\u001b[0;34m=\u001b[0m\u001b[0mlevel\u001b[0m\u001b[0;34m,\u001b[0m \u001b[0merrors\u001b[0m\u001b[0;34m=\u001b[0m\u001b[0merrors\u001b[0m\u001b[0;34m)\u001b[0m\u001b[0;34m\u001b[0m\u001b[0;34m\u001b[0m\u001b[0m\n\u001b[1;32m   3811\u001b[0m             \u001b[0;32melse\u001b[0m\u001b[0;34m:\u001b[0m\u001b[0;34m\u001b[0m\u001b[0;34m\u001b[0m\u001b[0m\n\u001b[0;32m-> 3812\u001b[0;31m                 \u001b[0mnew_axis\u001b[0m \u001b[0;34m=\u001b[0m \u001b[0maxis\u001b[0m\u001b[0;34m.\u001b[0m\u001b[0mdrop\u001b[0m\u001b[0;34m(\u001b[0m\u001b[0mlabels\u001b[0m\u001b[0;34m,\u001b[0m \u001b[0merrors\u001b[0m\u001b[0;34m=\u001b[0m\u001b[0merrors\u001b[0m\u001b[0;34m)\u001b[0m\u001b[0;34m\u001b[0m\u001b[0;34m\u001b[0m\u001b[0m\n\u001b[0m\u001b[1;32m   3813\u001b[0m             \u001b[0mresult\u001b[0m \u001b[0;34m=\u001b[0m \u001b[0mself\u001b[0m\u001b[0;34m.\u001b[0m\u001b[0mreindex\u001b[0m\u001b[0;34m(\u001b[0m\u001b[0;34m**\u001b[0m\u001b[0;34m{\u001b[0m\u001b[0maxis_name\u001b[0m\u001b[0;34m:\u001b[0m \u001b[0mnew_axis\u001b[0m\u001b[0;34m}\u001b[0m\u001b[0;34m)\u001b[0m\u001b[0;34m\u001b[0m\u001b[0;34m\u001b[0m\u001b[0m\n\u001b[1;32m   3814\u001b[0m \u001b[0;34m\u001b[0m\u001b[0m\n",
            "\u001b[0;32m/usr/local/lib/python3.6/dist-packages/pandas/core/indexes/base.py\u001b[0m in \u001b[0;36mdrop\u001b[0;34m(self, labels, errors)\u001b[0m\n\u001b[1;32m   4963\u001b[0m             \u001b[0;32mif\u001b[0m \u001b[0merrors\u001b[0m \u001b[0;34m!=\u001b[0m \u001b[0;34m'ignore'\u001b[0m\u001b[0;34m:\u001b[0m\u001b[0;34m\u001b[0m\u001b[0;34m\u001b[0m\u001b[0m\n\u001b[1;32m   4964\u001b[0m                 raise KeyError(\n\u001b[0;32m-> 4965\u001b[0;31m                     '{} not found in axis'.format(labels[mask]))\n\u001b[0m\u001b[1;32m   4966\u001b[0m             \u001b[0mindexer\u001b[0m \u001b[0;34m=\u001b[0m \u001b[0mindexer\u001b[0m\u001b[0;34m[\u001b[0m\u001b[0;34m~\u001b[0m\u001b[0mmask\u001b[0m\u001b[0;34m]\u001b[0m\u001b[0;34m\u001b[0m\u001b[0;34m\u001b[0m\u001b[0m\n\u001b[1;32m   4967\u001b[0m         \u001b[0;32mreturn\u001b[0m \u001b[0mself\u001b[0m\u001b[0;34m.\u001b[0m\u001b[0mdelete\u001b[0m\u001b[0;34m(\u001b[0m\u001b[0mindexer\u001b[0m\u001b[0;34m)\u001b[0m\u001b[0;34m\u001b[0m\u001b[0;34m\u001b[0m\u001b[0m\n",
            "\u001b[0;31mKeyError\u001b[0m: '[\\'surname_Chronopoulos\\' \\'surname_Kenyon\\' \\'surname_Moor\\'\\n \\'surname_Thorneycroft\\' \\'surname_Gale\\' \\'surname_Stengel\\' \\'surname_Bryhl\\'\\n \\'surname_Arnold-Franchi\\' \\'surname_Bishop\\' \\'surname_Gibson\\'\\n \\'surname_Moore\\' \\'surname_Barbara\\' \\'surname_Lindell\\' \\'surname_Hirvonen\\'\\n \\'surname_Calic\\' \\'surname_Fleming\\' \\'surname_Stanley\\' \\'surname_Rogers\\'\\n \\'surname_Clarke\\' \\'surname_Duff Gordon\\' \\'surname_Hakkarainen\\'\\n \\'surname_Aks\\' \\'surname_Andrew\\' \\'surname_Cumings\\' \\'surname_Risien\\'\\n \\'surname_Futrelle\\' \\'surname_Jonsson\\' \\'surname_Christy\\' \\'surname_Davidson\\'\\n \\'surname_Beckwith\\' \\'surname_Wright\\' \\'surname_Kiernan\\' \\'surname_Abelson\\'\\n \\'surname_Goldenberg\\' \\'surname_Karun\\' \\'surname_Andrews\\'\\n \\'surname_Frolicher-Stehli\\' \\'surname_Ostby\\' \\'surname_Dennis\\'\\n \\'surname_Snyder\\' \\'surname_Bowen\\' \\'surname_Ryan\\' \\'surname_Pokrnic\\'\\n \\'surname_Pears\\' \\'surname_Lobb\\' \\'surname_McNamee\\' \\'surname_Baxter\\'\\n \\'surname_Khalil\\' \\'surname_Burns\\' \\'surname_Angle\\' \\'surname_Saad\\'\\n \\'surname_Carrau\\' \\'surname_Foley\\' \\'surname_Connolly\\' \\'surname_Spencer\\'\\n \\'surname_Harder\\' \\'surname_Bonnell\\' \\'surname_Lennon\\' \\'surname_Betros\\'\\n \\'surname_Silvey\\' \\'surname_Webber\\' \\'surname_Nicola-Yarred\\'\\n \\'surname_Faunthorpe\\' \\'surname_Beane\\' \\'surname_Jefferys\\' \\'surname_Hippach\\'\\n \\'surname_McCarthy\\' \\'surname_Dick\\' \\'surname_Wiklund\\' \\'surname_Greenfield\\'\\n \\'surname_Penasco y Castellana\\' \\'surname..."
          ]
        }
      ]
    },
    {
      "cell_type": "code",
      "metadata": {
        "id": "A_HdsVvcWYuK",
        "colab_type": "code",
        "colab": {
          "base_uri": "https://localhost:8080/",
          "height": 34
        },
        "outputId": "2cc0d6b8-0337-4034-d0fa-32e56d084936"
      },
      "source": [
        "to_drop = [\"PassengerId\", \"Name\", \"Ticket\", \"Cabin\"]\n",
        "\n",
        "all_to_cat.drop(columns=to_drop, inplace=True)\n",
        "print(all_to_cat.shape)"
      ],
      "execution_count": 7,
      "outputs": [
        {
          "output_type": "stream",
          "text": [
            "(1309, 116)\n"
          ],
          "name": "stdout"
        }
      ]
    },
    {
      "cell_type": "code",
      "metadata": {
        "id": "PCawCD1mWcpA",
        "colab_type": "code",
        "colab": {}
      },
      "source": [
        "all_to_cat['Age'].fillna(all_to_cat['Age'].mode()[0], inplace=True)"
      ],
      "execution_count": 0,
      "outputs": []
    },
    {
      "cell_type": "code",
      "metadata": {
        "id": "NfMymrZuWiMV",
        "colab_type": "code",
        "colab": {}
      },
      "source": [
        "train_to_cat = all_to_cat.iloc[0:891, :]\n",
        "train_train = train_to_cat.drop([\"Survived\"], axis=1)"
      ],
      "execution_count": 0,
      "outputs": []
    },
    {
      "cell_type": "code",
      "metadata": {
        "id": "PWH4jgWNXjZv",
        "colab_type": "code",
        "colab": {}
      },
      "source": [
        "target = train_to_cat[\"Survived\"].values\n",
        "features = train_train.values"
      ],
      "execution_count": 0,
      "outputs": []
    },
    {
      "cell_type": "code",
      "metadata": {
        "id": "e-HFAQ_iXpRg",
        "colab_type": "code",
        "colab": {}
      },
      "source": [
        "x_train, x_test, t_train, t_test = train_test_split(features, target, test_size =0.3, random_state = 0)"
      ],
      "execution_count": 0,
      "outputs": []
    },
    {
      "cell_type": "code",
      "metadata": {
        "id": "Z-AHr9TzXsyQ",
        "colab_type": "code",
        "colab": {
          "base_uri": "https://localhost:8080/",
          "height": 279
        },
        "outputId": "8d5d9ee5-9282-40a8-8835-cc71fb8874fc"
      },
      "source": [
        "lgb.LGBMClassifier()"
      ],
      "execution_count": 13,
      "outputs": [
        {
          "output_type": "execute_result",
          "data": {
            "text/plain": [
              "LGBMClassifier(boosting_type='gbdt', class_weight=None, colsample_bytree=1.0,\n",
              "               importance_type='split', learning_rate=0.1, max_depth=-1,\n",
              "               min_child_samples=20, min_child_weight=0.001, min_split_gain=0.0,\n",
              "               n_estimators=100, n_jobs=-1, num_leaves=31, objective=None,\n",
              "               random_state=None, reg_alpha=0.0, reg_lambda=0.0, silent=True,\n",
              "               subsample=1.0, subsample_for_bin=200000, subsample_freq=0)"
            ]
          },
          "metadata": {
            "tags": []
          },
          "execution_count": 13
        }
      ]
    },
    {
      "cell_type": "code",
      "metadata": {
        "id": "dKIS2OU2XvvE",
        "colab_type": "code",
        "colab": {}
      },
      "source": [
        "train_data = lgb.Dataset(x_train, label=t_train)\n",
        "eval_data = lgb.Dataset(x_test, label=t_test, reference=train_data)"
      ],
      "execution_count": 0,
      "outputs": []
    },
    {
      "cell_type": "code",
      "metadata": {
        "id": "pKsIMDrWXyOf",
        "colab_type": "code",
        "colab": {}
      },
      "source": [
        "params = {\n",
        "    'task': 'train',\n",
        "    'boosting_type': 'gbdt',\n",
        "    'objective': 'binary',\n",
        "    'num_class': 1,\n",
        "    'verbose': 2,\n",
        "}"
      ],
      "execution_count": 0,
      "outputs": []
    },
    {
      "cell_type": "code",
      "metadata": {
        "id": "Xfw0XI8RX07b",
        "colab_type": "code",
        "colab": {
          "base_uri": "https://localhost:8080/",
          "height": 170
        },
        "outputId": "76e3538b-94fd-45c8-ffd6-4edf84b9e9dc"
      },
      "source": [
        "gbm = lgb.train(\n",
        "    params,\n",
        "    train_data,\n",
        "    valid_sets=eval_data,\n",
        "    num_boost_round=500,\n",
        "    early_stopping_rounds=100,\n",
        "    verbose_eval=20,\n",
        ")"
      ],
      "execution_count": 43,
      "outputs": [
        {
          "output_type": "stream",
          "text": [
            "Training until validation scores don't improve for 100 rounds.\n",
            "[20]\tvalid_0's binary_logloss: 0.414487\n",
            "[40]\tvalid_0's binary_logloss: 0.409904\n",
            "[60]\tvalid_0's binary_logloss: 0.429595\n",
            "[80]\tvalid_0's binary_logloss: 0.437748\n",
            "[100]\tvalid_0's binary_logloss: 0.445584\n",
            "[120]\tvalid_0's binary_logloss: 0.456687\n",
            "Early stopping, best iteration is:\n",
            "[26]\tvalid_0's binary_logloss: 0.405014\n"
          ],
          "name": "stdout"
        }
      ]
    },
    {
      "cell_type": "markdown",
      "metadata": {
        "id": "4XUiqIjoYBAT",
        "colab_type": "text"
      },
      "source": [
        "4人以上の時と同じになってしまっている。early stopを用いた。"
      ]
    },
    {
      "cell_type": "code",
      "metadata": {
        "id": "zHA-PvWEYRYw",
        "colab_type": "code",
        "colab": {}
      },
      "source": [
        "test_to_cat = all_to_cat.iloc[891:, :]\n",
        "test_test = test_to_cat.drop([\"Survived\"], axis=1)"
      ],
      "execution_count": 0,
      "outputs": []
    },
    {
      "cell_type": "code",
      "metadata": {
        "id": "zTIh2yb_YZ6Q",
        "colab_type": "code",
        "colab": {}
      },
      "source": [
        "test_features = test_test.values"
      ],
      "execution_count": 0,
      "outputs": []
    },
    {
      "cell_type": "code",
      "metadata": {
        "id": "bJkzzJpzYcOS",
        "colab_type": "code",
        "colab": {
          "base_uri": "https://localhost:8080/",
          "height": 1000
        },
        "outputId": "4773345a-ab26-44d1-daf3-aa3ed5b11e56"
      },
      "source": [
        "preds = gbm.predict(test_features)\n",
        "preds"
      ],
      "execution_count": 46,
      "outputs": [
        {
          "output_type": "execute_result",
          "data": {
            "text/plain": [
              "array([0.05704717, 0.34238607, 0.06873357, 0.299423  , 0.46059493,\n",
              "       0.44071202, 0.49521249, 0.35979021, 0.72072105, 0.0485595 ,\n",
              "       0.05086707, 0.17482346, 0.945932  , 0.03168204, 0.93691355,\n",
              "       0.91040097, 0.18074502, 0.2314063 , 0.32274054, 0.47791205,\n",
              "       0.2214194 , 0.49666517, 0.93755003, 0.18457783, 0.86343313,\n",
              "       0.03840145, 0.94726958, 0.2314063 , 0.57913564, 0.15573265,\n",
              "       0.03840145, 0.05211944, 0.46382837, 0.32504539, 0.54304678,\n",
              "       0.15267932, 0.52015232, 0.55625728, 0.09830685, 0.2442925 ,\n",
              "       0.10341585, 0.39103669, 0.06603356, 0.84924725, 0.93691355,\n",
              "       0.07927321, 0.54978674, 0.16615058, 0.93691355, 0.45711211,\n",
              "       0.3107698 , 0.26596956, 0.91305301, 0.76526374, 0.31383847,\n",
              "       0.10136209, 0.04361169, 0.0753323 , 0.08083727, 0.9308806 ,\n",
              "       0.06257082, 0.20512073, 0.11910224, 0.83269772, 0.26235869,\n",
              "       0.86627976, 0.85076859, 0.17664988, 0.64490063, 0.86343313,\n",
              "       0.81146161, 0.06939529, 0.32274054, 0.55530433, 0.9308806 ,\n",
              "       0.47486184, 0.08518331, 0.79876771, 0.21722033, 0.81146161,\n",
              "       0.81109875, 0.19212335, 0.17482346, 0.05086707, 0.14799362,\n",
              "       0.32002395, 0.52912273, 0.55625728, 0.81146161, 0.81109875,\n",
              "       0.3876532 , 0.17227195, 0.92318802, 0.08518331, 0.42090982,\n",
              "       0.14038133, 0.93691355, 0.31216111, 0.62704134, 0.20364415,\n",
              "       0.93871427, 0.11425928, 0.16615058, 0.23402134, 0.60020561,\n",
              "       0.11330708, 0.10569285, 0.16615058, 0.1090945 , 0.094487  ,\n",
              "       0.10341585, 0.81146161, 0.96360181, 0.83269772, 0.90550323,\n",
              "       0.17147719, 0.2314063 , 0.67392355, 0.43278943, 0.91354082,\n",
              "       0.88497348, 0.14582048, 0.96259896, 0.24902117, 0.16615058,\n",
              "       0.64912797, 0.15177195, 0.81281952, 0.15084419, 0.08518331,\n",
              "       0.42651568, 0.23695002, 0.26444343, 0.2314063 , 0.05348325,\n",
              "       0.06284424, 0.28422213, 0.12291927, 0.52015232, 0.07605075,\n",
              "       0.12547984, 0.9308806 , 0.18366042, 0.10549992, 0.62289057,\n",
              "       0.06275155, 0.10134788, 0.07429798, 0.39103669, 0.11426582,\n",
              "       0.94726958, 0.20826299, 0.03015214, 0.31685992, 0.10136209,\n",
              "       0.0753323 , 0.91858522, 0.59247632, 0.62289057, 0.26106403,\n",
              "       0.81146161, 0.81109875, 0.8250021 , 0.08545769, 0.15084419,\n",
              "       0.41102615, 0.17664988, 0.04360218, 0.91040097, 0.55625728,\n",
              "       0.0753323 , 0.2857111 , 0.06063037, 0.22114973, 0.07926469,\n",
              "       0.92135709, 0.94689118, 0.2214194 , 0.94564075, 0.91024613,\n",
              "       0.21722033, 0.52515006, 0.94545399, 0.16615058, 0.90650119,\n",
              "       0.05091826, 0.88497348, 0.05562315, 0.12547984, 0.15084419,\n",
              "       0.07272325, 0.14406945, 0.40234084, 0.06873357, 0.81109875,\n",
              "       0.05783909, 0.74812671, 0.59478238, 0.11303185, 0.52015232,\n",
              "       0.81421823, 0.81109875, 0.50918354, 0.93372363, 0.12096038,\n",
              "       0.33753739, 0.49521249, 0.13386485, 0.87900121, 0.04884627,\n",
              "       0.19744177, 0.08545769, 0.228139  , 0.79876771, 0.25054384,\n",
              "       0.19469376, 0.83136173, 0.18366042, 0.89542613, 0.08518331,\n",
              "       0.84924725, 0.09718398, 0.88306585, 0.19353305, 0.79876771,\n",
              "       0.69441215, 0.15177195, 0.81146161, 0.05091826, 0.12538292,\n",
              "       0.56890956, 0.91305301, 0.08651787, 0.05496642, 0.54928995,\n",
              "       0.095086  , 0.19212335, 0.2314063 , 0.84845686, 0.93891549,\n",
              "       0.79876771, 0.89988898, 0.49531718, 0.05086707, 0.07753036,\n",
              "       0.30556777, 0.88497348, 0.07926469, 0.91354082, 0.48024664,\n",
              "       0.93372363, 0.1087716 , 0.53735056, 0.1090945 , 0.20364415,\n",
              "       0.0753323 , 0.16615058, 0.25927996, 0.84845686, 0.19353305,\n",
              "       0.04440271, 0.08534283, 0.90398849, 0.58791886, 0.26900716,\n",
              "       0.05086707, 0.15013736, 0.0753323 , 0.52015232, 0.11595001,\n",
              "       0.36305395, 0.16615058, 0.91561164, 0.81421823, 0.2314063 ,\n",
              "       0.91305301, 0.18225314, 0.04936437, 0.11426582, 0.11303185,\n",
              "       0.52015232, 0.81109875, 0.81146161, 0.69538048, 0.62209728,\n",
              "       0.03869955, 0.0753323 , 0.2738093 , 0.22114973, 0.08518331,\n",
              "       0.1073862 , 0.49521249, 0.22114973, 0.18366042, 0.12538292,\n",
              "       0.09082534, 0.94807672, 0.15573265, 0.17991924, 0.29012592,\n",
              "       0.321221  , 0.32105138, 0.04936437, 0.1134865 , 0.81146161,\n",
              "       0.79876771, 0.48457651, 0.81109875, 0.18366042, 0.25588261,\n",
              "       0.08428931, 0.2314063 , 0.0753323 , 0.47791205, 0.90550323,\n",
              "       0.83269772, 0.19212335, 0.14407153, 0.25612641, 0.05211944,\n",
              "       0.23402134, 0.22114973, 0.12291927, 0.67489903, 0.90536991,\n",
              "       0.08545769, 0.93987996, 0.36305395, 0.10603137, 0.12415488,\n",
              "       0.90940525, 0.57913564, 0.2314063 , 0.60751882, 0.2157948 ,\n",
              "       0.23637731, 0.33942614, 0.07422049, 0.16775077, 0.22114973,\n",
              "       0.09911727, 0.24096568, 0.19006884, 0.89542613, 0.07708632,\n",
              "       0.59478238, 0.12291927, 0.47791205, 0.09795905, 0.9023465 ,\n",
              "       0.93053091, 0.12096038, 0.16709544, 0.19513039, 0.62209728,\n",
              "       0.15415557, 0.93691355, 0.05086707, 0.16615058, 0.37180142,\n",
              "       0.10136209, 0.9396119 , 0.9023465 , 0.299423  , 0.94372933,\n",
              "       0.20412155, 0.32002395, 0.33440731, 0.93053091, 0.26900716,\n",
              "       0.09810461, 0.9308806 , 0.1109298 , 0.15084419, 0.93119054,\n",
              "       0.90550323, 0.46059493, 0.12415488, 0.06626366, 0.19372122,\n",
              "       0.16615058, 0.09333212, 0.44556983, 0.55756228, 0.13193607,\n",
              "       0.90796135, 0.17227195, 0.06873357, 0.17954194, 0.19372122,\n",
              "       0.16672437, 0.93053091, 0.46731758, 0.0944876 , 0.0543183 ,\n",
              "       0.94545399, 0.07661626, 0.93053091, 0.17932623, 0.24096568,\n",
              "       0.91858522, 0.04303864, 0.94726958, 0.12736027, 0.60301308,\n",
              "       0.27489614, 0.08907806, 0.32151827, 0.81146161, 0.58791886,\n",
              "       0.81146161, 0.96381729, 0.35814595, 0.08518331, 0.90536991,\n",
              "       0.03869955, 0.08518331, 0.29977631])"
            ]
          },
          "metadata": {
            "tags": []
          },
          "execution_count": 46
        }
      ]
    },
    {
      "cell_type": "markdown",
      "metadata": {
        "id": "APiDwsIiYo_V",
        "colab_type": "text"
      },
      "source": [
        "4人以上の時と同じになってしまっている。苗字がどれほど使われているか見てみる"
      ]
    },
    {
      "cell_type": "code",
      "metadata": {
        "id": "eg9qnZyOY9oL",
        "colab_type": "code",
        "colab": {}
      },
      "source": [
        "import matplotlib.pyplot as plt\n",
        "%matplotlib inline"
      ],
      "execution_count": 0,
      "outputs": []
    },
    {
      "cell_type": "code",
      "metadata": {
        "id": "4OhdS1B8Y-M4",
        "colab_type": "code",
        "colab": {
          "base_uri": "https://localhost:8080/",
          "height": 768
        },
        "outputId": "31606327-7993-4209-9219-bfb16208a990"
      },
      "source": [
        "fig, axs = plt.subplots(figsize=[300, 10])\n",
        "importances = pd.DataFrame({'features': gbm.feature_name(), \n",
        "                            'importance': gbm.feature_importance()}).sort_values('importance', ascending=False)\n",
        "axs.bar(x=np.arange(len(importances)), height=importances['importance'])\n",
        "axs.set_xticks(np.arange(len(importances)))\n",
        "axs.set_xticklabels(importances['features'])\n",
        "axs.set_ylabel('Feature importance (# times used to split)')\n",
        "axs.set_title('Feature importance')\n",
        "\n",
        "plt.show()"
      ],
      "execution_count": 47,
      "outputs": [
        {
          "output_type": "display_data",
          "data": {
            "image/png": "[encoded data removed]",
            "text/plain": [
              "<Figure size 21600x720 with 1 Axes>"
            ]
          },
          "metadata": {
            "tags": []
          }
        }
      ]
    },
    {
      "cell_type": "markdown",
      "metadata": {
        "id": "5Lwx4mXVaEW2",
        "colab_type": "text"
      },
      "source": [
        "苗字ほとんど使われていなさそうだ。"
      ]
    },
    {
      "cell_type": "code",
      "metadata": {
        "id": "sgIbAMmUbZnR",
        "colab_type": "code",
        "colab": {
          "base_uri": "https://localhost:8080/",
          "height": 321
        },
        "outputId": "69df2f44-52da-42b7-b8d0-72fd7a740acc"
      },
      "source": [
        "preds01 = np.where(preds < 0.5, 0, 1)\n",
        "print(preds01)"
      ],
      "execution_count": 48,
      "outputs": [
        {
          "output_type": "stream",
          "text": [
            "[0 0 0 0 0 0 0 0 1 0 0 0 1 0 1 1 0 0 0 0 0 0 1 0 1 0 1 0 1 0 0 0 0 0 1 0 1\n",
            " 1 0 0 0 0 0 1 1 0 1 0 1 0 0 0 1 1 0 0 0 0 0 1 0 0 0 1 0 1 1 0 1 1 1 0 0 1\n",
            " 1 0 0 1 0 1 1 0 0 0 0 0 1 1 1 1 0 0 1 0 0 0 1 0 1 0 1 0 0 0 1 0 0 0 0 0 0\n",
            " 1 1 1 1 0 0 1 0 1 1 0 1 0 0 1 0 1 0 0 0 0 0 0 0 0 0 0 1 0 0 1 0 0 1 0 0 0\n",
            " 0 0 1 0 0 0 0 0 1 1 1 0 1 1 1 0 0 0 0 0 1 1 0 0 0 0 0 1 1 0 1 1 0 1 1 0 1\n",
            " 0 1 0 0 0 0 0 0 0 1 0 1 1 0 1 1 1 1 1 0 0 0 0 1 0 0 0 0 1 0 0 1 0 1 0 1 0\n",
            " 1 0 1 1 0 1 0 0 1 1 0 0 1 0 0 0 1 1 1 1 0 0 0 0 1 0 1 0 1 0 1 0 0 0 0 0 1\n",
            " 0 0 0 1 1 0 0 0 0 1 0 0 0 1 1 0 1 0 0 0 0 1 1 1 1 1 0 0 0 0 0 0 0 0 0 0 0\n",
            " 1 0 0 0 0 0 0 0 1 1 0 1 0 0 0 0 0 0 1 1 0 0 0 0 0 0 0 1 1 0 1 0 0 0 1 1 0\n",
            " 1 0 0 0 0 0 0 0 0 0 1 0 1 0 0 0 1 1 0 0 0 1 0 1 0 0 0 0 1 1 0 1 0 0 0 1 0\n",
            " 0 1 0 0 1 1 0 0 0 0 0 0 0 1 0 1 0 0 0 0 0 1 0 0 0 1 0 1 0 0 1 0 1 0 1 0 0\n",
            " 0 1 1 1 1 0 0 1 0 0 0]\n"
          ],
          "name": "stdout"
        }
      ]
    },
    {
      "cell_type": "markdown",
      "metadata": {
        "id": "06-6vf_nhapb",
        "colab_type": "text"
      },
      "source": [
        "early  stopを用いた。これで評価してみる。"
      ]
    },
    {
      "cell_type": "code",
      "metadata": {
        "id": "SNYat5xfh6vF",
        "colab_type": "code",
        "colab": {}
      },
      "source": [
        "PassengerId = np.array(test[\"PassengerId\"]).astype(int)\n",
        "                            \n",
        "my_solution = pd.DataFrame(preds01, PassengerId, columns = [\"Survived\"])\n",
        "                            \n",
        "my_solution.to_csv(\"FRY2_1.csv\", index_label = [\"PassengerId\"])"
      ],
      "execution_count": 0,
      "outputs": []
    },
    {
      "cell_type": "code",
      "metadata": {
        "id": "rPY-TgX8h-0T",
        "colab_type": "code",
        "colab": {}
      },
      "source": [
        "from google.colab import files\n",
        "files.download(\"FRY2_1.csv\")"
      ],
      "execution_count": 0,
      "outputs": []
    },
    {
      "cell_type": "markdown",
      "metadata": {
        "id": "FAODSF1siIZk",
        "colab_type": "text"
      },
      "source": [
        "76%。悪くはないが良くない。"
      ]
    }
  ]
}