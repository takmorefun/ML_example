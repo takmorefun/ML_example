{
  "nbformat": 4,
  "nbformat_minor": 0,
  "metadata": {
    "colab": {
      "name": "Kaggleのタイタニックの生存者予測をしようなどと試みる⑧-3",
      "version": "0.3.2",
      "provenance": [],
      "collapsed_sections": []
    },
    "kernelspec": {
      "name": "python3",
      "display_name": "Python 3"
    }
  },
  "cells": [
    {
      "cell_type": "code",
      "metadata": {
        "id": "f7fHusdNpYoq",
        "colab_type": "code",
        "colab": {}
      },
      "source": [
        "from google.colab import files\n",
        "uploaded = files.upload()"
      ],
      "execution_count": 0,
      "outputs": []
    },
    {
      "cell_type": "code",
      "metadata": {
        "id": "Ekohod9mp2D-",
        "colab_type": "code",
        "colab": {
          "base_uri": "https://localhost:8080/",
          "height": 193
        },
        "outputId": "9b4b6646-381c-4911-e060-4efe9bee8622"
      },
      "source": [
        "import numpy as np\n",
        "from sklearn.ensemble import RandomForestClassifier as RandomForest\n",
        "import pandas as pd\n",
        "from sklearn.model_selection import train_test_split\n",
        "import re\n",
        "\n",
        "train = pd.read_csv(\"train.csv\")\n",
        "test = pd.read_csv(\"test.csv\")\n",
        "all = pd.concat([train, test], axis =0).reset_index(drop=True)"
      ],
      "execution_count": 1,
      "outputs": [
        {
          "output_type": "stream",
          "text": [
            "/usr/local/lib/python3.6/dist-packages/ipykernel_launcher.py:9: FutureWarning: Sorting because non-concatenation axis is not aligned. A future version\n",
            "of pandas will change to not sort by default.\n",
            "\n",
            "To accept the future behavior, pass 'sort=False'.\n",
            "\n",
            "To retain the current behavior and silence the warning, pass 'sort=True'.\n",
            "\n",
            "  if __name__ == '__main__':\n"
          ],
          "name": "stderr"
        }
      ]
    },
    {
      "cell_type": "code",
      "metadata": {
        "id": "wSfW4OdcqJTP",
        "colab_type": "code",
        "colab": {}
      },
      "source": [
        "all[\"Title\"] = all[\"Name\"].apply(lambda x:re.split(\"[,.]\", x)[1])\n",
        "all[\"Cabin\"].fillna(\"U\", inplace=True)\n",
        "all[\"Cabin\"] = all[\"Cabin\"].apply(lambda x:x[0])"
      ],
      "execution_count": 0,
      "outputs": []
    },
    {
      "cell_type": "code",
      "metadata": {
        "id": "yoe8yJbUqOBW",
        "colab_type": "code",
        "colab": {}
      },
      "source": [
        "all[\"col_Pclass_Title\"] = all.apply(lambda x:\"{}_{}\".format(x[\"Pclass\"], x[\"Title\"]), axis=1)\n",
        "\n",
        "age_mean = all.groupby(\"col_Pclass_Title\")[\"Age\"].mean()\n",
        "\n",
        "col_mask = all[\"Age\"].map(lambda x: np.isnan(x))\n",
        "\n",
        "all.loc[col_mask, \"Age\"] = all.loc[col_mask, \"col_Pclass_Title\"].map(age_mean)\n",
        "\n",
        "all.drop(columns=\"col_Pclass_Title\", inplace=True)"
      ],
      "execution_count": 0,
      "outputs": []
    },
    {
      "cell_type": "code",
      "metadata": {
        "id": "6RQxBtc_qU_r",
        "colab_type": "code",
        "colab": {
          "base_uri": "https://localhost:8080/",
          "height": 142
        },
        "outputId": "814264a2-af16-46ae-a1ec-09601017a8bb"
      },
      "source": [
        "all[\"Age\"].fillna(28, inplace=True)\n",
        "all.Fare[1043] = 13.302889\n",
        "all[\"Embarked\"] = all[\"Embarked\"].fillna(\"S\")"
      ],
      "execution_count": 4,
      "outputs": [
        {
          "output_type": "stream",
          "text": [
            "/usr/local/lib/python3.6/dist-packages/ipykernel_launcher.py:2: SettingWithCopyWarning: \n",
            "A value is trying to be set on a copy of a slice from a DataFrame\n",
            "\n",
            "See the caveats in the documentation: http://pandas.pydata.org/pandas-docs/stable/indexing.html#indexing-view-versus-copy\n",
            "  \n"
          ],
          "name": "stderr"
        }
      ]
    },
    {
      "cell_type": "code",
      "metadata": {
        "id": "Hu4JNHlgqie7",
        "colab_type": "code",
        "colab": {}
      },
      "source": [
        "cols = [\"Sex\",\"Embarked\",\"Cabin\",\"Title\"]\n",
        "all_to_cat = pd.get_dummies(all, columns=cols)"
      ],
      "execution_count": 0,
      "outputs": []
    },
    {
      "cell_type": "code",
      "metadata": {
        "id": "rE_9oM9lqnIm",
        "colab_type": "code",
        "colab": {
          "base_uri": "https://localhost:8080/",
          "height": 34
        },
        "outputId": "c3aa7b5b-f546-4a1f-d644-13e54ebd744d"
      },
      "source": [
        "data_counts = all['Title'].value_counts()\n",
        "Title_to_drop = data_counts[data_counts < 3].index.tolist()\n",
        "\n",
        "to_drop_list = []\n",
        "target_col = \"Title\"\n",
        "\n",
        "for each_data in Title_to_drop:\n",
        "    col_name = \"{}_{}\".format(target_col, each_data)\n",
        "    to_drop_list.append(col_name)\n",
        "    \n",
        "all_to_cat.drop(columns=to_drop_list, inplace=True)\n",
        "\n",
        "to_drop = [\"PassengerId\", \"Name\", \"Ticket\"]\n",
        "\n",
        "all_to_cat.drop(columns=to_drop, inplace=True)\n",
        "print(all_to_cat.shape)"
      ],
      "execution_count": 6,
      "outputs": [
        {
          "output_type": "stream",
          "text": [
            "(1309, 27)\n"
          ],
          "name": "stdout"
        }
      ]
    },
    {
      "cell_type": "code",
      "metadata": {
        "id": "pvBTlZoiqqE1",
        "colab_type": "code",
        "colab": {}
      },
      "source": [
        "all_to_cat[\"Pclass\"] /= 3\n",
        "all_to_cat[\"Age\"] /= 80\n",
        "all_to_cat[\"SibSp\"] /= 8\n",
        "all_to_cat[\"Parch\"] /= 9\n",
        "all_to_cat[\"Fare\"] /= 512.3292"
      ],
      "execution_count": 0,
      "outputs": []
    },
    {
      "cell_type": "code",
      "metadata": {
        "id": "ZW1zgDsCq0nP",
        "colab_type": "code",
        "colab": {}
      },
      "source": [
        "train_to_cat = all_to_cat.iloc[0:891, :]\n",
        "train_train = train_to_cat.drop([\"Survived\"], axis=1)"
      ],
      "execution_count": 0,
      "outputs": []
    },
    {
      "cell_type": "code",
      "metadata": {
        "id": "ql0OytBAq6dp",
        "colab_type": "code",
        "colab": {}
      },
      "source": [
        "target = train_to_cat[\"Survived\"].values\n",
        "features = train_train.values"
      ],
      "execution_count": 0,
      "outputs": []
    },
    {
      "cell_type": "code",
      "metadata": {
        "id": "AkEzhZMCq-hl",
        "colab_type": "code",
        "colab": {}
      },
      "source": [
        "x_train, x_test, t_train, t_test = train_test_split(features, target, test_size =0.3, random_state = 0)"
      ],
      "execution_count": 0,
      "outputs": []
    },
    {
      "cell_type": "code",
      "metadata": {
        "id": "1RRa7jHorCbQ",
        "colab_type": "code",
        "colab": {
          "base_uri": "https://localhost:8080/",
          "height": 34
        },
        "outputId": "41f164ac-6936-4aa4-d1b2-5a987a98b838"
      },
      "source": [
        "model = RandomForest(n_estimators=100).fit(x_train, t_train)\n",
        "model.score(x_test, t_test)"
      ],
      "execution_count": 11,
      "outputs": [
        {
          "output_type": "execute_result",
          "data": {
            "text/plain": [
              "0.8059701492537313"
            ]
          },
          "metadata": {
            "tags": []
          },
          "execution_count": 11
        }
      ]
    },
    {
      "cell_type": "code",
      "metadata": {
        "id": "JyA-NOrarIP5",
        "colab_type": "code",
        "colab": {
          "base_uri": "https://localhost:8080/",
          "height": 176
        },
        "outputId": "4352c762-8ccc-4986-f32d-fc97f3276ed2"
      },
      "source": [
        "header = np.array(train.drop(['Survived', 'PassengerId'], axis=1).columns)\n",
        "print(header)\n",
        "print(model.feature_importances_)"
      ],
      "execution_count": 12,
      "outputs": [
        {
          "output_type": "stream",
          "text": [
            "['Pclass' 'Name' 'Sex' 'Age' 'SibSp' 'Parch' 'Ticket' 'Fare' 'Cabin'\n",
            " 'Embarked']\n",
            "[0.21701814 0.20111606 0.03236582 0.06358888 0.05214252 0.10368862\n",
            " 0.08537459 0.01283564 0.01089422 0.0163739  0.0024534  0.00494285\n",
            " 0.00763947 0.00618129 0.01315088 0.00197157 0.00130644 0.00037851\n",
            " 0.02386087 0.         0.00139031 0.01035461 0.01683509 0.08520329\n",
            " 0.02724072 0.0016923 ]\n"
          ],
          "name": "stdout"
        }
      ]
    },
    {
      "cell_type": "code",
      "metadata": {
        "id": "rF0q_93Ar-Oy",
        "colab_type": "code",
        "colab": {}
      },
      "source": [
        "test_to_cat = all_to_cat.iloc[891:, :]\n",
        "test_test = test_to_cat.drop([\"Survived\"], axis=1)"
      ],
      "execution_count": 0,
      "outputs": []
    },
    {
      "cell_type": "code",
      "metadata": {
        "id": "NobhACqfsBMn",
        "colab_type": "code",
        "colab": {}
      },
      "source": [
        "test_features = test_test.values"
      ],
      "execution_count": 0,
      "outputs": []
    },
    {
      "cell_type": "code",
      "metadata": {
        "id": "RzHeVLiHsDkZ",
        "colab_type": "code",
        "colab": {
          "base_uri": "https://localhost:8080/",
          "height": 482
        },
        "outputId": "50188aa3-ba25-4c81-da17-dad07c0d837a"
      },
      "source": [
        "preds = model.predict(test_features)\n",
        "preds"
      ],
      "execution_count": 15,
      "outputs": [
        {
          "output_type": "execute_result",
          "data": {
            "text/plain": [
              "array([0., 0., 0., 1., 0., 0., 0., 0., 1., 0., 0., 0., 1., 0., 1., 1., 0.,\n",
              "       1., 0., 1., 0., 1., 1., 0., 1., 0., 1., 1., 0., 0., 0., 0., 1., 1.,\n",
              "       0., 0., 0., 0., 0., 0., 0., 0., 0., 1., 1., 0., 0., 0., 1., 1., 0.,\n",
              "       0., 1., 1., 1., 0., 0., 0., 0., 1., 0., 0., 0., 1., 1., 1., 1., 0.,\n",
              "       0., 1., 1., 0., 0., 0., 1., 0., 0., 1., 0., 1., 1., 0., 0., 0., 0.,\n",
              "       0., 1., 0., 1., 1., 0., 0., 1., 0., 0., 0., 1., 0., 0., 0., 1., 0.,\n",
              "       0., 0., 1., 0., 0., 0., 1., 0., 0., 1., 1., 0., 1., 0., 0., 0., 0.,\n",
              "       1., 1., 0., 1., 0., 0., 0., 0., 1., 1., 0., 0., 1., 0., 0., 0., 0.,\n",
              "       0., 0., 0., 0., 0., 1., 0., 0., 1., 0., 0., 0., 1., 0., 1., 0., 0.,\n",
              "       1., 0., 0., 1., 1., 0., 0., 1., 1., 1., 0., 0., 0., 0., 0., 1., 0.,\n",
              "       0., 0., 0., 0., 0., 1., 1., 0., 1., 1., 0., 1., 1., 0., 1., 0., 1.,\n",
              "       0., 0., 0., 0., 0., 1., 0., 1., 0., 1., 0., 0., 0., 1., 1., 1., 1.,\n",
              "       0., 0., 0., 0., 1., 0., 0., 0., 0., 1., 0., 0., 1., 0., 1., 0., 1.,\n",
              "       0., 1., 1., 1., 1., 0., 1., 0., 0., 0., 1., 0., 0., 1., 0., 1., 1.,\n",
              "       1., 1., 1., 1., 0., 0., 1., 1., 1., 0., 1., 0., 1., 0., 1., 0., 1.,\n",
              "       0., 0., 0., 1., 0., 0., 0., 1., 1., 0., 0., 0., 0., 0., 0., 0., 0.,\n",
              "       1., 1., 0., 1., 0., 0., 0., 0., 0., 1., 1., 1., 1., 0., 0., 1., 0.,\n",
              "       0., 0., 0., 0., 1., 0., 0., 1., 0., 0., 0., 0., 0., 0., 0., 1., 1.,\n",
              "       0., 1., 0., 0., 0., 1., 0., 0., 1., 1., 0., 0., 0., 0., 0., 0., 0.,\n",
              "       1., 1., 0., 1., 0., 0., 0., 1., 0., 0., 1., 0., 0., 1., 0., 0., 1.,\n",
              "       0., 0., 0., 1., 1., 0., 0., 1., 0., 1., 1., 0., 0., 0., 1., 1., 1.,\n",
              "       0., 0., 1., 0., 1., 1., 1., 1., 0., 0., 0., 1., 1., 0., 1., 0., 0.,\n",
              "       1., 1., 0., 0., 0., 0., 0., 0., 1., 0., 1., 1., 0., 0., 0., 0., 0.,\n",
              "       1., 1., 0., 0., 1., 0., 1., 0., 0., 1., 0., 1., 0., 1., 0., 0., 0.,\n",
              "       1., 1., 1., 1., 0., 0., 1., 0., 0., 1.])"
            ]
          },
          "metadata": {
            "tags": []
          },
          "execution_count": 15
        }
      ]
    },
    {
      "cell_type": "code",
      "metadata": {
        "id": "a07YKDpxsJww",
        "colab_type": "code",
        "colab": {}
      },
      "source": [
        "PassengerId = np.array(test[\"PassengerId\"]).astype(int)\n",
        "                            \n",
        "my_solution = pd.DataFrame(preds, PassengerId, columns = [\"Survived\"])\n",
        "                            \n",
        "my_solution.to_csv(\"Solution8_3.csv\", index_label = [\"PassengerId\"])"
      ],
      "execution_count": 0,
      "outputs": []
    },
    {
      "cell_type": "code",
      "metadata": {
        "id": "DxlinvTrsTvo",
        "colab_type": "code",
        "colab": {}
      },
      "source": [
        "from google.colab import files\n",
        "files.download(\"Solution8_3.csv\")"
      ],
      "execution_count": 0,
      "outputs": []
    },
    {
      "cell_type": "markdown",
      "metadata": {
        "id": "U8Y2Icmys-SL",
        "colab_type": "text"
      },
      "source": [
        "75.119%。イマイチ。Randam Forestは渋いか"
      ]
    }
  ]
}