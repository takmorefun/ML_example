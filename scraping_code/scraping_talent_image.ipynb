{
 "cells": [
  {
   "cell_type": "code",
   "execution_count": 1,
   "metadata": {
    "collapsed": false
   },
   "outputs": [],
   "source": [
    "import pandas as pd\n",
    "import numpy as np\n",
    "import time, gc, math\n",
    "from pandas.io import gbq\n",
    "import matplotlib.pyplot as plt\n",
    "import bs4\n",
    "import urllib\n",
    "import requests\n",
    "import json\n",
    "import codecs\n",
    "import binascii\n",
    "import os\n",
    "%matplotlib inline"
   ]
  },
  {
   "cell_type": "markdown",
   "metadata": {},
   "source": [
    "### 使用する関数の定義"
   ]
  },
  {
   "cell_type": "code",
   "execution_count": 2,
   "metadata": {
    "collapsed": true
   },
   "outputs": [],
   "source": [
    "#https://www.google.co.jp/search?tbm=isch&q=%E4%BB%8A%E7%94%B0%E7%BE%8E%E6%A1%9C+%E6%A8%AA%E9%A1%94&chips=q:%E4%BB%8A%E7%94%B0%E7%BE%8E%E6%A1%9C+%E6%A8%AA%E9%A1%94,g_1:%E3%82%A2%E3%82%A4%E3%82%B3%E3%83%B3&sa=X&ved=0ahUKEwijn5nqjoXfAhWExrwKHeCqDUMQ4lYILigI&biw=1440&bih=821&dpr=1\n",
    "def get_images(query, start):\n",
    "    screen_width = 1920\n",
    "    screen_height = 1080\n",
    "    params = {\n",
    "        \"q\": query,\n",
    "        \"sa\": \"X\",\n",
    "        \"biw\": screen_width,\n",
    "        \"bih\": screen_height,\n",
    "        \"tbm\": \"isch\",\n",
    "        \"start\": start,\n",
    "        #\"ei\": \"\" - This seems like a unique ID, you might want to use it to avoid getting banned. But you probably still are.\n",
    "    }\n",
    "    header={'User-Agent':\"Mozilla/5.0 (Windows NT 6.1; WOW64) AppleWebKit/537.36 (KHTML, like Gecko) Chrome/43.0.2357.134 Safari/537.36\"}\n",
    "    url=\"https://www.google.co.jp/search\"\n",
    "    \n",
    "    URL = '{}?{}'.format(url, urllib.parse.urlencode(params))\n",
    "    print(URL)\n",
    "\n",
    "    req = urllib.request.Request(URL,headers=header)\n",
    "    bs = bs4.BeautifulSoup(urllib.request.urlopen(req), 'html.parser')\n",
    "    \n",
    "    ActualImages=[]# contains the link for Large original images, type of  image\n",
    "    cnt = 1\n",
    "    for a in bs.findAll(\"div\",{\"class\":\"rg_meta\"}):\n",
    "        link , Type =json.loads(a.text)[\"ou\"]  ,json.loads(a.text)[\"ity\"]\n",
    "        ActualImages.append((link,Type))\n",
    "        \n",
    "    return ActualImages"
   ]
  },
  {
   "cell_type": "markdown",
   "metadata": {},
   "source": [
    "### キャスト一覧から画像をダウンロード"
   ]
  },
  {
   "cell_type": "code",
   "execution_count": 3,
   "metadata": {
    "collapsed": false
   },
   "outputs": [],
   "source": [
    "#タレント一覧の読み込み\n",
    "cast_list = pd.read_csv(\"unique_cast_list.csv\",encoding=\"utf-8-sig\")"
   ]
  },
  {
   "cell_type": "code",
   "execution_count": null,
   "metadata": {
    "collapsed": false,
    "scrolled": true
   },
   "outputs": [
    {
     "name": "stdout",
     "output_type": "stream",
     "text": [
      "999 宮城夏鈴\n",
      "https://www.google.co.jp/search?biw=1920&sa=X&start=0&bih=1080&tbm=isch&q=%E5%AE%AE%E5%9F%8E%E5%A4%8F%E9%88%B4\n",
      "./talent_image/宮城夏鈴\n",
      "./talent_image/宮城夏鈴/img_0.jpg already exist\n",
      "./talent_image/宮城夏鈴/img_1.jpg already exist\n",
      "./talent_image/宮城夏鈴/img_2.jpg already exist\n",
      "./talent_image/宮城夏鈴/img_3.png already exist\n",
      "./talent_image/宮城夏鈴/img_4.jpg already exist\n",
      "./talent_image/宮城夏鈴/img_5.jpg already exist\n",
      "1000 Reichi\n",
      "https://www.google.co.jp/search?biw=1920&sa=X&start=0&bih=1080&tbm=isch&q=Reichi\n",
      "./talent_image/Reichi\n",
      "./talent_image/Reichi/img_0.jpg already exist\n",
      "./talent_image/Reichi/img_1.jpg already exist\n",
      "./talent_image/Reichi/img_2.jpeg already exist\n",
      "./talent_image/Reichi/img_3.jpg already exist\n",
      "./talent_image/Reichi/img_4.jpg already exist\n",
      "./talent_image/Reichi/img_5.png already exist\n",
      "1001 宮崎あおい\n",
      "https://www.google.co.jp/search?biw=1920&sa=X&start=0&bih=1080&tbm=isch&q=%E5%AE%AE%E5%B4%8E%E3%81%82%E3%81%8A%E3%81%84\n",
      "./talent_image/宮崎あおい\n",
      "1002 ナヲ(マキシマムザホルモン)\n",
      "https://www.google.co.jp/search?biw=1920&sa=X&start=0&bih=1080&tbm=isch&q=%E3%83%8A%E3%83%B2%28%E3%83%9E%E3%82%AD%E3%82%B7%E3%83%9E%E3%83%A0%E3%82%B6%E3%83%9B%E3%83%AB%E3%83%A2%E3%83%B3%29\n",
      "./talent_image/ナヲ(マキシマムザホルモン)\n",
      "could not load : https://%E7%86%B1%E6%84%9B.com/wp-content/uploads/2014/05/%E3%83%8A%E3%83%B2%E3%80%80%E3%83%9E%E3%82%AD%E3%82%B7%E3%83%9E%E3%83%A0%E3%82%B6%E3%83%9B%E3%83%AB%E3%83%A2%E3%83%B3.jpg\n",
      "'latin-1' codec can't encode characters in position 0-1: ordinal not in range(256)\n",
      "1003 キヨサク(MONGOL800)\n",
      "https://www.google.co.jp/search?biw=1920&sa=X&start=0&bih=1080&tbm=isch&q=%E3%82%AD%E3%83%A8%E3%82%B5%E3%82%AF%28MONGOL800%29\n",
      "./talent_image/キヨサク(MONGOL800)\n",
      "could not load : https://%E6%B2%96%E7%B8%84%E3%83%88%E3%83%AC%E3%83%B3%E3%83%89.biz/wp-content/uploads/2017/11/24G3520.jpg\n",
      "'latin-1' codec can't encode characters in position 0-5: ordinal not in range(256)\n",
      "1004 TOSHI-LOW(BRAHMAN)\n",
      "https://www.google.co.jp/search?biw=1920&sa=X&start=0&bih=1080&tbm=isch&q=TOSHI-LOW%28BRAHMAN%29\n",
      "./talent_image/TOSHI-LOW(BRAHMAN)\n",
      "1005 加藤ひさし(THE COLLECTORS)\n",
      "https://www.google.co.jp/search?biw=1920&sa=X&start=0&bih=1080&tbm=isch&q=%E5%8A%A0%E8%97%A4%E3%81%B2%E3%81%95%E3%81%97%28THE+COLLECTORS%29\n",
      "./talent_image/加藤ひさし(THE COLLECTORS)\n"
     ]
    }
   ],
   "source": [
    "#キャスト名を用いて、google画像検索を行い、画像をダウンロード\n",
    "for idx, row in cast_list.iterrows():\n",
    "    keyword = row.cast_name\n",
    "    \n",
    "    if idx < 999:\n",
    "        continue\n",
    "        \n",
    "    print(idx, keyword) \n",
    "    \n",
    "    \n",
    "    x = 0\n",
    "    _query = keyword\n",
    "    ActualImages = get_images(_query.encode('utf-8'), x*100)\n",
    "    \n",
    "    dir_name = _query.replace(\"/\", \" \").replace(\":\", \" \")\n",
    "    \n",
    "    save_directory =  './talent_image/' + dir_name\n",
    "    print(save_directory)\n",
    "\n",
    "    for i , (img , Type) in enumerate( ActualImages):\n",
    "        \n",
    "        if i > 5:\n",
    "            break\n",
    "        try:\n",
    "            Type = Type if len(Type) > 0 else 'jpg'\n",
    "#             print(\"Downloading image {} ({}), type is {}\".format(i, img, Type))\n",
    "            is_dir = os.path.isdir(save_directory)\n",
    "\n",
    "            if not is_dir:\n",
    "#                 print(\"make directory:\", save_directory)\n",
    "                os.mkdir(save_directory)\n",
    "                \n",
    "            img_path = os.path.join(save_directory , \"img_\"+str(i)+\".\"+Type)\n",
    "            \n",
    "            if os.path.isfile(img_path):\n",
    "                print(img_path, \"already exist\")\n",
    "            else:\n",
    "                raw_img = urllib.request.urlopen(img, timeout=10).read()\n",
    "                f = open(img_path, 'wb')\n",
    "                f.write(raw_img)\n",
    "                f.close()\n",
    "        except Exception as e:\n",
    "            print (\"could not load : \"+img)\n",
    "            print (e)"
   ]
  },
  {
   "cell_type": "code",
   "execution_count": null,
   "metadata": {
    "collapsed": true
   },
   "outputs": [],
   "source": []
  },
  {
   "cell_type": "code",
   "execution_count": null,
   "metadata": {
    "collapsed": true
   },
   "outputs": [],
   "source": []
  }
 ],
 "metadata": {
  "anaconda-cloud": {},
  "kernelspec": {
   "display_name": "Python [default]",
   "language": "python",
   "name": "python3"
  },
  "language_info": {
   "codemirror_mode": {
    "name": "ipython",
    "version": 3
   },
   "file_extension": ".py",
   "mimetype": "text/x-python",
   "name": "python",
   "nbconvert_exporter": "python",
   "pygments_lexer": "ipython3",
   "version": "3.5.2"
  }
 },
 "nbformat": 4,
 "nbformat_minor": 1
}
