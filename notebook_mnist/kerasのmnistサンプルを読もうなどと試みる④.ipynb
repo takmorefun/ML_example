{
  "nbformat": 4,
  "nbformat_minor": 0,
  "metadata": {
    "colab": {
      "name": "kerasのmnistサンプルを読もうなどと試みる④",
      "version": "0.3.2",
      "provenance": [],
      "collapsed_sections": []
    },
    "kernelspec": {
      "name": "python3",
      "display_name": "Python 3"
    }
  },
  "cells": [
    {
      "cell_type": "code",
      "metadata": {
        "id": "f1Ud3pFGIX3T",
        "colab_type": "code",
        "colab": {}
      },
      "source": [
        "import numpy as np\n",
        "import pandas as pd\n",
        "import keras as ks\n",
        "from keras.datasets import mnist\n",
        "\n",
        "(x_train, y_train), (x_test, y_test) = mnist.load_data()"
      ],
      "execution_count": 0,
      "outputs": []
    },
    {
      "cell_type": "code",
      "metadata": {
        "id": "onJvjJXytRLD",
        "colab_type": "code",
        "colab": {
          "base_uri": "https://localhost:8080/",
          "height": 34
        },
        "outputId": "59c0e641-b021-413b-88aa-3e578e5f2def"
      },
      "source": [
        "print(x_train.shape)"
      ],
      "execution_count": 36,
      "outputs": [
        {
          "output_type": "stream",
          "text": [
            "(60000, 28, 28)\n"
          ],
          "name": "stdout"
        }
      ]
    },
    {
      "cell_type": "code",
      "metadata": {
        "id": "3_R-d2JmxRFG",
        "colab_type": "code",
        "colab": {
          "base_uri": "https://localhost:8080/",
          "height": 34
        },
        "outputId": "6dab6663-ecd8-49ba-a292-78be24f56e96"
      },
      "source": [
        "print(y_train.shape)"
      ],
      "execution_count": 48,
      "outputs": [
        {
          "output_type": "stream",
          "text": [
            "(60000,)\n"
          ],
          "name": "stdout"
        }
      ]
    },
    {
      "cell_type": "code",
      "metadata": {
        "id": "JSY6UG4fts79",
        "colab_type": "code",
        "colab": {
          "base_uri": "https://localhost:8080/",
          "height": 51
        },
        "outputId": "edaa10ae-4746-4e8f-fcf5-add4c902a7c6"
      },
      "source": [
        "x_train = x_train.reshape(60000, 784)\n",
        "x_test = x_test.reshape(10000, 784)\n",
        "x_train = x_train.astype('float32')\n",
        "x_test = x_test.astype('float32')\n",
        "x_train /= 255\n",
        "x_test /= 255\n",
        "print(x_train.shape[0], 'train samples')\n",
        "print(x_test.shape[0], 'test samples')"
      ],
      "execution_count": 37,
      "outputs": [
        {
          "output_type": "stream",
          "text": [
            "60000 train samples\n",
            "10000 test samples\n"
          ],
          "name": "stdout"
        }
      ]
    },
    {
      "cell_type": "code",
      "metadata": {
        "id": "QfrU0GobrX1w",
        "colab_type": "code",
        "colab": {}
      },
      "source": [
        "import lightgbm as lgb"
      ],
      "execution_count": 0,
      "outputs": []
    },
    {
      "cell_type": "code",
      "metadata": {
        "id": "DrDFHcaUrm4g",
        "colab_type": "code",
        "colab": {}
      },
      "source": [
        "from sklearn.metrics import confusion_matrix\n",
        "from sklearn.metrics import accuracy_score"
      ],
      "execution_count": 0,
      "outputs": []
    },
    {
      "cell_type": "code",
      "metadata": {
        "id": "F8wnzN4cr5Ab",
        "colab_type": "code",
        "colab": {
          "base_uri": "https://localhost:8080/",
          "height": 159
        },
        "outputId": "c841e7ad-85a5-4c56-8c4d-1f9460a8c64d"
      },
      "source": [
        "lgb.LGBMClassifier()"
      ],
      "execution_count": 40,
      "outputs": [
        {
          "output_type": "execute_result",
          "data": {
            "text/plain": [
              "LGBMClassifier(boosting_type='gbdt', class_weight=None, colsample_bytree=1.0,\n",
              "               importance_type='split', learning_rate=0.1, max_depth=-1,\n",
              "               min_child_samples=20, min_child_weight=0.001, min_split_gain=0.0,\n",
              "               n_estimators=100, n_jobs=-1, num_leaves=31, objective=None,\n",
              "               random_state=None, reg_alpha=0.0, reg_lambda=0.0, silent=True,\n",
              "               subsample=1.0, subsample_for_bin=200000, subsample_freq=0)"
            ]
          },
          "metadata": {
            "tags": []
          },
          "execution_count": 40
        }
      ]
    },
    {
      "cell_type": "code",
      "metadata": {
        "id": "sZtz0LYssE7D",
        "colab_type": "code",
        "colab": {}
      },
      "source": [
        "train_data = lgb.Dataset(x_train, label=y_train)\n",
        "eval_data = lgb.Dataset(x_test, label=y_test, reference=train_data)"
      ],
      "execution_count": 0,
      "outputs": []
    },
    {
      "cell_type": "code",
      "metadata": {
        "id": "BCmXmpQKsM2e",
        "colab_type": "code",
        "colab": {}
      },
      "source": [
        "params = {\n",
        "    'task': 'train',\n",
        "    'boosting_type': 'gbdt',\n",
        "    'objective': 'multiclass',\n",
        "    'num_class': 10,\n",
        "    'verbose': 2,\n",
        "}"
      ],
      "execution_count": 0,
      "outputs": []
    },
    {
      "cell_type": "code",
      "metadata": {
        "id": "JZO3GYBetBCI",
        "colab_type": "code",
        "colab": {
          "base_uri": "https://localhost:8080/",
          "height": 51
        },
        "outputId": "f24c6024-2e22-4d02-8dcc-fb48cb408445"
      },
      "source": [
        "gbm = lgb.train(\n",
        "    params,\n",
        "    train_data,\n",
        "    valid_sets=eval_data,\n",
        "    num_boost_round=10,\n",
        "    verbose_eval=5,\n",
        ")"
      ],
      "execution_count": 43,
      "outputs": [
        {
          "output_type": "stream",
          "text": [
            "[5]\tvalid_0's multi_logloss: 1.26438\n",
            "[10]\tvalid_0's multi_logloss: 0.858278\n"
          ],
          "name": "stdout"
        }
      ]
    },
    {
      "cell_type": "code",
      "metadata": {
        "id": "uc3f1pBTviDr",
        "colab_type": "code",
        "colab": {}
      },
      "source": [
        "preds = gbm.predict(x_test)"
      ],
      "execution_count": 0,
      "outputs": []
    },
    {
      "cell_type": "code",
      "metadata": {
        "id": "ku7PUyLAvol_",
        "colab_type": "code",
        "colab": {}
      },
      "source": [
        "y_pred = []\n",
        "\n",
        "for x in preds:\n",
        "    y_pred.append(np.argmax(x))"
      ],
      "execution_count": 0,
      "outputs": []
    },
    {
      "cell_type": "code",
      "metadata": {
        "id": "Kddb-3ACwGhi",
        "colab_type": "code",
        "colab": {
          "base_uri": "https://localhost:8080/",
          "height": 34
        },
        "outputId": "4a583e5f-e45a-46ca-b7d0-a9a982c76f16"
      },
      "source": [
        "accuracy_score(y_test, y_pred)"
      ],
      "execution_count": 47,
      "outputs": [
        {
          "output_type": "execute_result",
          "data": {
            "text/plain": [
              "0.9238"
            ]
          },
          "metadata": {
            "tags": []
          },
          "execution_count": 47
        }
      ]
    },
    {
      "cell_type": "markdown",
      "metadata": {
        "id": "NhwAguNlwLRU",
        "colab_type": "text"
      },
      "source": [
        "9割。"
      ]
    },
    {
      "cell_type": "code",
      "metadata": {
        "id": "Vue4kSEtx1Fg",
        "colab_type": "code",
        "colab": {
          "base_uri": "https://localhost:8080/",
          "height": 408
        },
        "outputId": "bdce52be-6120-4950-93a7-ed709f453a37"
      },
      "source": [
        "gbm2 = lgb.train(\n",
        "    params,\n",
        "    train_data,\n",
        "    valid_sets=eval_data,\n",
        "    num_boost_round=100,\n",
        "    early_stopping_rounds=10,\n",
        "    verbose_eval=5,\n",
        ")"
      ],
      "execution_count": 49,
      "outputs": [
        {
          "output_type": "stream",
          "text": [
            "Training until validation scores don't improve for 10 rounds.\n",
            "[5]\tvalid_0's multi_logloss: 1.26438\n",
            "[10]\tvalid_0's multi_logloss: 0.858278\n",
            "[15]\tvalid_0's multi_logloss: 0.62222\n",
            "[20]\tvalid_0's multi_logloss: 0.474574\n",
            "[25]\tvalid_0's multi_logloss: 0.377731\n",
            "[30]\tvalid_0's multi_logloss: 0.309498\n",
            "[35]\tvalid_0's multi_logloss: 0.261068\n",
            "[40]\tvalid_0's multi_logloss: 0.225897\n",
            "[45]\tvalid_0's multi_logloss: 0.199588\n",
            "[50]\tvalid_0's multi_logloss: 0.178911\n",
            "[55]\tvalid_0's multi_logloss: 0.162807\n",
            "[60]\tvalid_0's multi_logloss: 0.149452\n",
            "[65]\tvalid_0's multi_logloss: 0.138681\n",
            "[70]\tvalid_0's multi_logloss: 0.129364\n",
            "[75]\tvalid_0's multi_logloss: 0.121967\n",
            "[80]\tvalid_0's multi_logloss: 0.115304\n",
            "[85]\tvalid_0's multi_logloss: 0.10987\n",
            "[90]\tvalid_0's multi_logloss: 0.10567\n",
            "[95]\tvalid_0's multi_logloss: 0.101247\n",
            "[100]\tvalid_0's multi_logloss: 0.0974774\n",
            "Did not meet early stopping. Best iteration is:\n",
            "[100]\tvalid_0's multi_logloss: 0.0974774\n"
          ],
          "name": "stdout"
        }
      ]
    },
    {
      "cell_type": "markdown",
      "metadata": {
        "id": "asbPFhOCy4IW",
        "colab_type": "text"
      },
      "source": [
        "loss値下がり続けた"
      ]
    },
    {
      "cell_type": "code",
      "metadata": {
        "id": "9RjD_Pqfy-6f",
        "colab_type": "code",
        "colab": {}
      },
      "source": [
        "pred2 = gbm2.predict(x_test)"
      ],
      "execution_count": 0,
      "outputs": []
    },
    {
      "cell_type": "code",
      "metadata": {
        "id": "V5FAp82kzGWX",
        "colab_type": "code",
        "colab": {}
      },
      "source": [
        "y_pred2 = []\n",
        "\n",
        "for x in pred2:\n",
        "    y_pred2.append(np.argmax(x))"
      ],
      "execution_count": 0,
      "outputs": []
    },
    {
      "cell_type": "code",
      "metadata": {
        "id": "EfCpjRqhzOh5",
        "colab_type": "code",
        "colab": {
          "base_uri": "https://localhost:8080/",
          "height": 34
        },
        "outputId": "f35c1922-84a3-44a2-e9b3-b8c69d2b9c45"
      },
      "source": [
        "accuracy_score(y_test, y_pred2)"
      ],
      "execution_count": 53,
      "outputs": [
        {
          "output_type": "execute_result",
          "data": {
            "text/plain": [
              "0.9727"
            ]
          },
          "metadata": {
            "tags": []
          },
          "execution_count": 53
        }
      ]
    },
    {
      "cell_type": "markdown",
      "metadata": {
        "id": "8XEHRO2TzRvp",
        "colab_type": "text"
      },
      "source": [
        "97%。まだいけそうか"
      ]
    },
    {
      "cell_type": "code",
      "metadata": {
        "id": "3Drlu3BdzXsc",
        "colab_type": "code",
        "colab": {
          "base_uri": "https://localhost:8080/",
          "height": 136
        },
        "outputId": "f3caf473-942d-4ee6-b1d0-1c95dfc35783"
      },
      "source": [
        "gbm3 = lgb.train(\n",
        "    params,\n",
        "    train_data,\n",
        "    valid_sets=eval_data,\n",
        "    num_boost_round=500,\n",
        "    early_stopping_rounds=100,\n",
        "    verbose_eval=100,\n",
        ")"
      ],
      "execution_count": 54,
      "outputs": [
        {
          "output_type": "stream",
          "text": [
            "Training until validation scores don't improve for 100 rounds.\n",
            "[100]\tvalid_0's multi_logloss: 0.0974774\n",
            "[200]\tvalid_0's multi_logloss: 0.0680255\n",
            "[300]\tvalid_0's multi_logloss: 0.0632429\n",
            "[400]\tvalid_0's multi_logloss: 0.0648402\n",
            "Early stopping, best iteration is:\n",
            "[301]\tvalid_0's multi_logloss: 0.0631857\n"
          ],
          "name": "stdout"
        }
      ]
    },
    {
      "cell_type": "code",
      "metadata": {
        "id": "c5eYRLT83QD5",
        "colab_type": "code",
        "colab": {}
      },
      "source": [
        "pred3 = gbm3.predict(x_test)"
      ],
      "execution_count": 0,
      "outputs": []
    },
    {
      "cell_type": "code",
      "metadata": {
        "id": "rTDaLbvR3VTv",
        "colab_type": "code",
        "colab": {}
      },
      "source": [
        "y_pred3 = []\n",
        "\n",
        "for x in pred3:\n",
        "    y_pred3.append(np.argmax(x))"
      ],
      "execution_count": 0,
      "outputs": []
    },
    {
      "cell_type": "code",
      "metadata": {
        "id": "HJnXs9U43aXD",
        "colab_type": "code",
        "colab": {
          "base_uri": "https://localhost:8080/",
          "height": 34
        },
        "outputId": "94ebc3fc-665c-4b21-e50e-2993271452ea"
      },
      "source": [
        "accuracy_score(y_test, y_pred3)"
      ],
      "execution_count": 57,
      "outputs": [
        {
          "output_type": "execute_result",
          "data": {
            "text/plain": [
              "0.9806"
            ]
          },
          "metadata": {
            "tags": []
          },
          "execution_count": 57
        }
      ]
    },
    {
      "cell_type": "markdown",
      "metadata": {
        "id": "r5DJXZP63gPA",
        "colab_type": "text"
      },
      "source": [
        "98%。良好か。"
      ]
    }
  ]
}